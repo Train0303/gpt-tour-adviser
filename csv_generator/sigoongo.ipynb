{
 "cells": [
  {
   "cell_type": "markdown",
   "source": [
    "# 시군구별 관광기후지수 조회 (<a href=\"https://www.data.go.kr/tcs/dss/selectApiDataDetailView.do?publicDataPk=15056912#tab_layer_detail_function\">API Documentation Link</a>)\n",
    "\n",
    "---\n",
    "\n",
    "## params\n",
    "- ServiceKey : 공공데이터포털에서 받은 인증키 (decodekey)\n",
    "- pageNo : 페이지번호\n",
    "- numOfRows : 한 페이지 결과 수\n",
    "- dataType : 요청자료형식(XML/JSON)\n",
    "- CURRENT_DATE : 2018-12-31 00시부터 조회\n",
    "- DAY : CURRENT_DATE부터 입력값까지의 자료 호출\n",
    "- CITY_AREA_ID : 시군구 아이디\n",
    "\n",
    "## response\n",
    "```json\n",
    "    {\n",
    "      \"header\": {\n",
    "        \"resultCode\": \"string\",\n",
    "        \"resultMsg\": \"string\"\n",
    "      },\n",
    "      \"body\": {\n",
    "        \"numOfRows\": \"string\",\n",
    "        \"pageNo\": \"string\",\n",
    "        \"totalCount\": \"string\",\n",
    "        \"dataType\": \"string\",\n",
    "        \"items\": {\n",
    "          \"item\": {\n",
    "            \"tm\": \"string\",\n",
    "            \"totalCityName\": \"string\",\n",
    "            \"doName\": \"string\",\n",
    "            \"cityName\": \"string\",\n",
    "            \"cityAreaId\": \"string\",\n",
    "            \"kmaTci\": \"string\",\n",
    "            \"TCI_GRADE\": \"string\"\n",
    "          }\n",
    "        }\n",
    "      }\n",
    "    }\n",
    "```\n",
    "\n",
    "## meanings\n",
    "|---------------|------------------|\n",
    "| tm            | 예보시각         |\n",
    "| totalCityName | 전체도시이름     |\n",
    "| doName        | 도단위이름       |\n",
    "| cityName      | 시군구이름       |\n",
    "| cityAreaId    | 시군구 아이디    |\n",
    "| kmaTci        | 관광기후지수     |\n",
    "| TCI_GRADE     | 관광기후지수등급 |"
   ],
   "metadata": {
    "collapsed": false,
    "pycharm": {
     "name": "#%% md\n"
    }
   }
  },
  {
   "cell_type": "code",
   "execution_count": 1,
   "outputs": [],
   "source": [
    "import pandas as pd\n",
    "import requests\n",
    "from common import *"
   ],
   "metadata": {
    "collapsed": false,
    "pycharm": {
     "name": "#%%\n"
    }
   }
  },
  {
   "cell_type": "code",
   "execution_count": 2,
   "outputs": [],
   "source": [
    "def get_api(city_area_id: str) -> list[dict]:\n",
    "    url = 'http://apis.data.go.kr/1360000/TourStnInfoService1/getCityTourClmIdx1'\n",
    "    params = {'ServiceKey': get_servicekey(),\n",
    "              'pageNo': '1',\n",
    "              'numOfRows': '100',\n",
    "              'dataType': 'JSON',\n",
    "              'CURRENT_DATE': get_current_date(),\n",
    "              'DAY': '14',\n",
    "              'CITY_AREA_ID': city_area_id}\n",
    "\n",
    "    response = requests.get(url=url, params=params).json()\n",
    "\n",
    "    if response['response']['header']['resultCode'] != '00':\n",
    "        ErrorMessage = response['response']['header']['resultMsg']\n",
    "        raise GetApiError(ErrorMessage)\n",
    "\n",
    "    return response['response']['body']['items']['item']"
   ],
   "metadata": {
    "collapsed": false,
    "pycharm": {
     "name": "#%%\n"
    }
   }
  },
  {
   "cell_type": "code",
   "execution_count": 3,
   "outputs": [
    {
     "data": {
      "text/plain": "        시군구 아이디  전체도시이름 도단위이름 시군구이름\n0    2717000000   대구 서구    대구    서구\n1    2726000000  대구 수성구    대구   수성구\n2    2711000000   대구 중구    대구    중구\n3    3023000000  대전 대덕구    대전   대덕구\n4    3011000000   대전 동구    대전    동구\n..          ...     ...   ...   ...\n225  2720000000   대구 남구    대구    남구\n226  2729000000  대구 달서구    대구   달서구\n227  2771000000  대구 달성군    대구   달성군\n228  2714000000   대구 동구    대구    동구\n229  2723000000   대구 북구    대구    북구\n\n[230 rows x 4 columns]",
      "text/html": "<div>\n<style scoped>\n    .dataframe tbody tr th:only-of-type {\n        vertical-align: middle;\n    }\n\n    .dataframe tbody tr th {\n        vertical-align: top;\n    }\n\n    .dataframe thead th {\n        text-align: right;\n    }\n</style>\n<table border=\"1\" class=\"dataframe\">\n  <thead>\n    <tr style=\"text-align: right;\">\n      <th></th>\n      <th>시군구 아이디</th>\n      <th>전체도시이름</th>\n      <th>도단위이름</th>\n      <th>시군구이름</th>\n    </tr>\n  </thead>\n  <tbody>\n    <tr>\n      <th>0</th>\n      <td>2717000000</td>\n      <td>대구 서구</td>\n      <td>대구</td>\n      <td>서구</td>\n    </tr>\n    <tr>\n      <th>1</th>\n      <td>2726000000</td>\n      <td>대구 수성구</td>\n      <td>대구</td>\n      <td>수성구</td>\n    </tr>\n    <tr>\n      <th>2</th>\n      <td>2711000000</td>\n      <td>대구 중구</td>\n      <td>대구</td>\n      <td>중구</td>\n    </tr>\n    <tr>\n      <th>3</th>\n      <td>3023000000</td>\n      <td>대전 대덕구</td>\n      <td>대전</td>\n      <td>대덕구</td>\n    </tr>\n    <tr>\n      <th>4</th>\n      <td>3011000000</td>\n      <td>대전 동구</td>\n      <td>대전</td>\n      <td>동구</td>\n    </tr>\n    <tr>\n      <th>...</th>\n      <td>...</td>\n      <td>...</td>\n      <td>...</td>\n      <td>...</td>\n    </tr>\n    <tr>\n      <th>225</th>\n      <td>2720000000</td>\n      <td>대구 남구</td>\n      <td>대구</td>\n      <td>남구</td>\n    </tr>\n    <tr>\n      <th>226</th>\n      <td>2729000000</td>\n      <td>대구 달서구</td>\n      <td>대구</td>\n      <td>달서구</td>\n    </tr>\n    <tr>\n      <th>227</th>\n      <td>2771000000</td>\n      <td>대구 달성군</td>\n      <td>대구</td>\n      <td>달성군</td>\n    </tr>\n    <tr>\n      <th>228</th>\n      <td>2714000000</td>\n      <td>대구 동구</td>\n      <td>대구</td>\n      <td>동구</td>\n    </tr>\n    <tr>\n      <th>229</th>\n      <td>2723000000</td>\n      <td>대구 북구</td>\n      <td>대구</td>\n      <td>북구</td>\n    </tr>\n  </tbody>\n</table>\n<p>230 rows × 4 columns</p>\n</div>"
     },
     "execution_count": 3,
     "metadata": {},
     "output_type": "execute_result"
    }
   ],
   "source": [
    "df_inform = pd.read_csv('informations.csv', encoding='cp949')\n",
    "df_inform"
   ],
   "metadata": {
    "collapsed": false,
    "pycharm": {
     "name": "#%%\n"
    }
   }
  },
  {
   "cell_type": "code",
   "execution_count": 4,
   "outputs": [
    {
     "data": {
      "text/plain": "                 tm totalCityName doName cityName  cityAreaId  kmaTci  \\\n0  2023-05-01 00:00         대구 서구     대구       서구  2717000000    0.31   \n1  2023-04-30 00:00         대구 서구     대구       서구  2717000000   -0.29   \n2  2023-04-29 00:00         대구 서구     대구       서구  2717000000   -0.53   \n3  2023-04-28 00:00         대구 서구     대구       서구  2717000000    0.36   \n4  2023-04-27 00:00         대구 서구     대구       서구  2717000000    0.29   \n5  2023-04-26 00:00         대구 서구     대구       서구  2717000000   -0.05   \n6  2023-04-25 00:00         대구 서구     대구       서구  2717000000   -0.81   \n7  2023-04-24 00:00         대구 서구     대구       서구  2717000000    0.03   \n8  2023-04-23 00:00         대구 서구     대구       서구  2717000000   -0.11   \n9  2023-04-22 00:00         대구 서구     대구       서구  2717000000    0.02   \n\n  TCI_GRADE  \n0        좋음  \n1        나쁨  \n2        나쁨  \n3      매우좋음  \n4        좋음  \n5        보통  \n6        나쁨  \n7        보통  \n8        보통  \n9        보통  ",
      "text/html": "<div>\n<style scoped>\n    .dataframe tbody tr th:only-of-type {\n        vertical-align: middle;\n    }\n\n    .dataframe tbody tr th {\n        vertical-align: top;\n    }\n\n    .dataframe thead th {\n        text-align: right;\n    }\n</style>\n<table border=\"1\" class=\"dataframe\">\n  <thead>\n    <tr style=\"text-align: right;\">\n      <th></th>\n      <th>tm</th>\n      <th>totalCityName</th>\n      <th>doName</th>\n      <th>cityName</th>\n      <th>cityAreaId</th>\n      <th>kmaTci</th>\n      <th>TCI_GRADE</th>\n    </tr>\n  </thead>\n  <tbody>\n    <tr>\n      <th>0</th>\n      <td>2023-05-01 00:00</td>\n      <td>대구 서구</td>\n      <td>대구</td>\n      <td>서구</td>\n      <td>2717000000</td>\n      <td>0.31</td>\n      <td>좋음</td>\n    </tr>\n    <tr>\n      <th>1</th>\n      <td>2023-04-30 00:00</td>\n      <td>대구 서구</td>\n      <td>대구</td>\n      <td>서구</td>\n      <td>2717000000</td>\n      <td>-0.29</td>\n      <td>나쁨</td>\n    </tr>\n    <tr>\n      <th>2</th>\n      <td>2023-04-29 00:00</td>\n      <td>대구 서구</td>\n      <td>대구</td>\n      <td>서구</td>\n      <td>2717000000</td>\n      <td>-0.53</td>\n      <td>나쁨</td>\n    </tr>\n    <tr>\n      <th>3</th>\n      <td>2023-04-28 00:00</td>\n      <td>대구 서구</td>\n      <td>대구</td>\n      <td>서구</td>\n      <td>2717000000</td>\n      <td>0.36</td>\n      <td>매우좋음</td>\n    </tr>\n    <tr>\n      <th>4</th>\n      <td>2023-04-27 00:00</td>\n      <td>대구 서구</td>\n      <td>대구</td>\n      <td>서구</td>\n      <td>2717000000</td>\n      <td>0.29</td>\n      <td>좋음</td>\n    </tr>\n    <tr>\n      <th>5</th>\n      <td>2023-04-26 00:00</td>\n      <td>대구 서구</td>\n      <td>대구</td>\n      <td>서구</td>\n      <td>2717000000</td>\n      <td>-0.05</td>\n      <td>보통</td>\n    </tr>\n    <tr>\n      <th>6</th>\n      <td>2023-04-25 00:00</td>\n      <td>대구 서구</td>\n      <td>대구</td>\n      <td>서구</td>\n      <td>2717000000</td>\n      <td>-0.81</td>\n      <td>나쁨</td>\n    </tr>\n    <tr>\n      <th>7</th>\n      <td>2023-04-24 00:00</td>\n      <td>대구 서구</td>\n      <td>대구</td>\n      <td>서구</td>\n      <td>2717000000</td>\n      <td>0.03</td>\n      <td>보통</td>\n    </tr>\n    <tr>\n      <th>8</th>\n      <td>2023-04-23 00:00</td>\n      <td>대구 서구</td>\n      <td>대구</td>\n      <td>서구</td>\n      <td>2717000000</td>\n      <td>-0.11</td>\n      <td>보통</td>\n    </tr>\n    <tr>\n      <th>9</th>\n      <td>2023-04-22 00:00</td>\n      <td>대구 서구</td>\n      <td>대구</td>\n      <td>서구</td>\n      <td>2717000000</td>\n      <td>0.02</td>\n      <td>보통</td>\n    </tr>\n  </tbody>\n</table>\n</div>"
     },
     "execution_count": 4,
     "metadata": {},
     "output_type": "execute_result"
    }
   ],
   "source": [
    "item = get_api('2717000000')\n",
    "df = pd.DataFrame(item)\n",
    "df"
   ],
   "metadata": {
    "collapsed": false,
    "pycharm": {
     "name": "#%%\n"
    }
   }
  },
  {
   "cell_type": "code",
   "execution_count": 4,
   "outputs": [],
   "source": [],
   "metadata": {
    "collapsed": false,
    "pycharm": {
     "name": "#%%\n"
    }
   }
  }
 ],
 "metadata": {
  "kernelspec": {
   "display_name": "Python 3",
   "language": "python",
   "name": "python3"
  },
  "language_info": {
   "codemirror_mode": {
    "name": "ipython",
    "version": 2
   },
   "file_extension": ".py",
   "mimetype": "text/x-python",
   "name": "python",
   "nbconvert_exporter": "python",
   "pygments_lexer": "ipython2",
   "version": "2.7.6"
  }
 },
 "nbformat": 4,
 "nbformat_minor": 0
}