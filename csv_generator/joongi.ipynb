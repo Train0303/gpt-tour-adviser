{
 "cells": [
  {
   "cell_type": "code",
   "execution_count": 1,
   "outputs": [],
   "source": [
    "import pandas as pd\n",
    "import requests\n",
    "import json\n",
    "from datetime import datetime, timedelta"
   ],
   "metadata": {
    "collapsed": false,
    "pycharm": {
     "name": "#%%\n"
    }
   }
  },
  {
   "cell_type": "code",
   "execution_count": 2,
   "outputs": [],
   "source": [
    "class GetApiError(Exception):\n",
    "    def __init__(self, msg):\n",
    "        self.msg = msg\n",
    "\n",
    "    def __str__(self):\n",
    "        return self.msg"
   ],
   "metadata": {
    "collapsed": false,
    "pycharm": {
     "name": "#%%\n"
    }
   }
  },
  {
   "cell_type": "code",
   "execution_count": 3,
   "outputs": [],
   "source": [
    "now = datetime.now()\n",
    "\n",
    "def get_servicekey() -> str:\n",
    "    with open(\"secrets.json\") as f:\n",
    "        secrets = json.loads(f.read())\n",
    "    return secrets.get('decoding_key')\n",
    "\n",
    "\n",
    "def get_current_date() -> str:\n",
    "    return now.strftime('%Y%m%d') + '00'\n",
    "\n",
    "\n",
    "def get_tmFc() -> str: # 06시, 18시 가능\n",
    "    if 0 <= now.hour < 6: # 전날 18시를 가져와야 함\n",
    "        yesterday = (now + timedelta(days=-1))\n",
    "        return yesterday.strftime('%Y%m%d1800')\n",
    "\n",
    "    elif 6 <= now.hour < 18: # 당일 06시를 가져와야 함\n",
    "        return now.strftime('%Y%m%d0600')\n",
    "\n",
    "    elif 18 <= now.hour <= 24: # 당일 18시를 가져와야 함\n",
    "        return now.strftime('%Y%m%d1800')"
   ],
   "metadata": {
    "collapsed": false,
    "pycharm": {
     "name": "#%%\n"
    }
   }
  },
  {
   "cell_type": "code",
   "execution_count": 4,
   "outputs": [],
   "source": [
    "def get_temp_api(regId: str) -> list[dict]:\n",
    "    temp_url = 'http://apis.data.go.kr/1360000/MidFcstInfoService/getMidTa'\n",
    "    params = {'ServiceKey': get_servicekey(),\n",
    "              'pageNo': '1',\n",
    "              'numOfRows': '100',\n",
    "              'dataType': 'JSON',\n",
    "              'regId' : regId,\n",
    "              'tmFc': get_tmFc()}\n",
    "\n",
    "    response = requests.get(url=temp_url, params=params).json()\n",
    "\n",
    "    if response['response']['header']['resultCode'] != '00':\n",
    "        ErrorMessage = response['response']['header']['resultMsg']\n",
    "        raise GetApiError(ErrorMessage)\n",
    "\n",
    "    return response['response']['body']['items']['item']"
   ],
   "metadata": {
    "collapsed": false,
    "pycharm": {
     "name": "#%%\n"
    }
   }
  },
  {
   "cell_type": "code",
   "execution_count": 5,
   "outputs": [],
   "source": [
    "def get_yooksang_api(regId: str) -> list[dict]:\n",
    "    yooksang_url = 'http://apis.data.go.kr/1360000/MidFcstInfoService/getMidLandFcst'\n",
    "    params = {'ServiceKey': get_servicekey(),\n",
    "              'pageNo': '1',\n",
    "              'numOfRows': '100',\n",
    "              'dataType': 'JSON',\n",
    "              'regId' : regId,\n",
    "              'tmFc': get_tmFc()}\n",
    "\n",
    "    response = requests.get(url=yooksang_url, params=params).json()\n",
    "\n",
    "    if response['response']['header']['resultCode'] != '00':\n",
    "        ErrorMessage = response['response']['header']['resultMsg']\n",
    "        raise GetApiError(ErrorMessage)\n",
    "\n",
    "    return response['response']['body']['items']['item']"
   ],
   "metadata": {
    "collapsed": false,
    "pycharm": {
     "name": "#%%\n"
    }
   }
  },
  {
   "cell_type": "code",
   "execution_count": 6,
   "outputs": [],
   "source": [
    "def get_tour_api(city_area_id: str) -> list[dict]:\n",
    "    url = 'http://apis.data.go.kr/1360000/TourStnInfoService1/getCityTourClmIdx1'\n",
    "    params = {'ServiceKey': get_servicekey(),\n",
    "             'pageNo': '1',\n",
    "             'numOfRows': '100',\n",
    "             'dataType': 'JSON',\n",
    "            'CURRENT_DATE': get_current_date(),\n",
    "            'DAY': '14',\n",
    "            'CITY_AREA_ID': city_area_id}\n",
    "\n",
    "    response = requests.get(url=url, params=params).json()\n",
    "\n",
    "    if response['response']['header']['resultCode'] != '00':\n",
    "        ErrorMessage = response['response']['header']['resultMsg']\n",
    "        raise GetApiError(ErrorMessage)\n",
    "\n",
    "    return response['response']['body']['items']['item']"
   ],
   "metadata": {
    "collapsed": false,
    "pycharm": {
     "name": "#%%\n"
    }
   }
  },
  {
   "cell_type": "code",
   "execution_count": 7,
   "outputs": [],
   "source": [
    "# code_temp에 순천, 순천시가 따로 있다..\n",
    "# 고성은 강원고성, 경남고성이 따로있다..\n",
    "# 강원고성 : 4282..\n",
    "# 경남고성 : 4882..\n",
    "\n",
    "def make_merged_csv():\n",
    "    df_temp = pd.read_csv('code_temp.csv')\n",
    "    df_yooksang = pd.read_csv('code_yooksang.csv')\n",
    "    df_info = pd.read_csv('code_informations.csv')\n",
    "    df_info['시군구 아이디'] = df_info['시군구 아이디'].astype(str)\n",
    "\n",
    "    exception_list = ['동구', '서구', '남구', '북구', '중구'] # 시군구 이름 전처리 (동구, 서구, 남구, 북구, 중구 제외하고 군/구/시 를 떼준다)\n",
    "    df_info['새로운시군구이름'] = df_info['시군구이름'].apply(lambda x: x if x in exception_list else x[:-1])\n",
    "\n",
    "    # df_merged에 df_info와 df_temp를 '도시'를 기준으로 outer join. (info에만 있는 정보가 있을 것이고, temp에만 있는 정보가 있을 것)\n",
    "    df_merged = df_info.merge(df_temp, left_on='새로운시군구이름', right_on='도시', how='outer')\n",
    "\n",
    "    # info만 있는 도시라면, 기온코드는 NaN일 것이므로, 'FFFFFFFF'로 대체해준다.\n",
    "    df_merged['기온코드'].fillna('FFFFFFFF', inplace=True)\n",
    "\n",
    "    # 기온코드가 11B로 시작한다면, 육상코드는 뒤에 00000이 온다.\n",
    "    # 만약 그렇지 않다면, 11C10000 와 같이, 뒤에 0000이 온다.\n",
    "    # 만약 육상코드가 존재하지 않는 값이라면, 'FFFFFFFF'로 설정해준다.\n",
    "    df_merged['육상코드'] = df_merged['기온코드']\\\n",
    "            .apply(lambda x: x[:3]+'00000' if x and x.startswith('11B') else x[:4]+'0000')\\\n",
    "            .apply(lambda x: 'F'*8 if x not in df_yooksang['육상코드'].values else x)\n",
    "\n",
    "    # 기온코드가 '21F'로 시작한다면, 육상코드는 '11F10000' 임. (전라도 중에, 기온코드가 들쑥날쑥한 것이 있다.)\n",
    "    df_merged['육상코드'] = df_merged['육상코드'].apply(lambda x: '11F10000' if x.startswith('21F') else x)\n",
    "\n",
    "    # 전체도시이름과 도단위이름이 비어있다면, (즉, info에 존재하지 않았던 도시라면,) 도시 이름으로 설정해준다.\n",
    "    df_merged['전체도시이름'].fillna(df_merged['도시'], inplace=True)\n",
    "    df_merged['도단위이름'].fillna(df_merged['도시'], inplace=True)\n",
    "\n",
    "    # tour 정보를 기반으로 dataframe을 구성하였기 때문에, 투어코드가 존재하는 도시이지만, 기온코드와 육상코드가 존재하지 않을 수 있다.\n",
    "    # 이런 정보들은, '도단위이름'을 기반으로 기온코드와, 육상코드를 제공한다.\n",
    "    df_merged['기온코드'].fillna(df_temp['도시'][df_temp['도시'] == df_merged['도단위이름']])\n",
    "\n",
    "    # 필요없는 column을 제거한다.\n",
    "    df_merged.drop(columns=['새로운시군구이름', '도시'], inplace=True)\n",
    "\n",
    "    # column의 배치를 정렬한다.\n",
    "    df_merged = df_merged[['전체도시이름', '도단위이름', '시군구이름', '기온코드', '육상코드', '시군구 아이디']]\n",
    "\n",
    "    # column을 rename.\n",
    "    df_merged.rename(columns={'시군구 아이디' : '투어코드'}, inplace=True)\n",
    "\n",
    "    # FFFFFFFF 값과, NaN값들을, 빈 문자열로 대체한다.\n",
    "    df_merged = df_merged.replace('FFFFFFFF', '').fillna('')\n",
    "\n",
    "    df_merged.to_csv('code_merged.csv', encoding='utf-8', index=False)"
   ],
   "metadata": {
    "collapsed": false,
    "pycharm": {
     "name": "#%%\n"
    }
   }
  },
  {
   "cell_type": "code",
   "execution_count": 10,
   "outputs": [],
   "source": [
    "def get_tour_dataframe(city_area_id: str) -> pd.DataFrame:\n",
    "\n",
    "    tour_data = []\n",
    "    tour_api_data = get_tour_api(city_area_id=city_area_id)\n",
    "\n",
    "    for items in tour_api_data:\n",
    "        day = items['tm'].split()[0]\n",
    "        kmaTci = items['kmaTci']\n",
    "        TCI_GRADE = items['TCI_GRADE']\n",
    "        tour_data.append({'날짜': day, '투어코드': city_area_id, '관광지수': kmaTci, '관광지표': TCI_GRADE})\n",
    "\n",
    "    return pd.DataFrame(tour_data)"
   ],
   "metadata": {
    "collapsed": false,
    "pycharm": {
     "name": "#%%\n"
    }
   }
  },
  {
   "cell_type": "code",
   "execution_count": 11,
   "outputs": [],
   "source": [
    "def get_temp_dataframe(regId: str) -> pd.DataFrame:\n",
    "\n",
    "    temp_data = []\n",
    "    temp_api_data = get_temp_api(regId=regId)[0]\n",
    "\n",
    "    # 관광지수는 9일까지만 제공하므로, 통일해준다. (max: 10이지만, 9까지만 돌림)\n",
    "    for i in range(3, 10):\n",
    "        day = now + timedelta(days=i)\n",
    "        taMin = temp_api_data[f'taMin{i}']\n",
    "        taMax = temp_api_data[f'taMax{i}']\n",
    "        temp_data.append({'날짜': day.strftime('%Y-%m-%d'), '기온코드': regId, '최소기온': str(taMin), '최대기온': str(taMax)})\n",
    "\n",
    "    return pd.DataFrame(temp_data)"
   ],
   "metadata": {
    "collapsed": false,
    "pycharm": {
     "name": "#%%\n"
    }
   }
  },
  {
   "cell_type": "code",
   "execution_count": 12,
   "outputs": [],
   "source": [
    "def get_yooksang_dataframe(regId: str) -> pd.DataFrame:\n",
    "\n",
    "    yooksang_data = []\n",
    "    yooksang_api_data = get_yooksang_api(regId)[0]\n",
    "\n",
    "    # am, pm은 7일까지만 제공, 데이터의 통일성을 위해, am, pm을 설정해준다.\n",
    "    # 관광지수는 9일까지만 제공하므로, 통일해준다. (max: 10이지만, 9까지만 돌림)\n",
    "    for i in range(3, 10):\n",
    "        day = now + timedelta(days=i)\n",
    "        if i <= 7:\n",
    "            rain_am = yooksang_api_data[f'rnSt{i}Am']\n",
    "            rain_pm = yooksang_api_data[f'rnSt{i}Pm']\n",
    "            forecast_am = yooksang_api_data[f'wf{i}Am']\n",
    "            forecast_pm = yooksang_api_data[f'wf{i}Pm']\n",
    "        else:\n",
    "            rain_am = yooksang_api_data[f'rnSt{i}']\n",
    "            rain_pm = yooksang_api_data[f'rnSt{i}']\n",
    "            forecast_am = yooksang_api_data[f'wf{i}']\n",
    "            forecast_pm = yooksang_api_data[f'wf{i}']\n",
    "        yooksang_data.append({'날짜': day.strftime('%Y-%m-%d'), '육상코드': regId,\n",
    "                              '오전비확률': f'{rain_am}%', '오후비확률': f'{rain_pm}%',\n",
    "                              '오전날씨': forecast_am, '오후날씨': forecast_pm})\n",
    "\n",
    "    return pd.DataFrame(yooksang_data)"
   ],
   "metadata": {
    "collapsed": false,
    "pycharm": {
     "name": "#%%\n"
    }
   }
  },
  {
   "cell_type": "code",
   "execution_count": 12,
   "outputs": [],
   "source": [],
   "metadata": {
    "collapsed": false,
    "pycharm": {
     "name": "#%%\n"
    }
   }
  },
  {
   "cell_type": "code",
   "execution_count": 13,
   "outputs": [
    {
     "data": {
      "text/plain": "     전체도시이름 도단위이름 시군구이름      기온코드 육상코드        투어코드\n0     대구 서구    대구    서구                 2717000000\n1     대전 서구    대전    서구                 3017000000\n2     부산 서구    부산    서구                 2614000000\n3     인천 서구    인천    서구                 2826000000\n4     광주 서구    광주    서구                 2914000000\n..      ...   ...   ...       ...  ...         ...\n274      혜산              11K20004                 \n275      풍산              11K20005                 \n276      원산              11L10001                 \n277  고성(장전)              11L10002                 \n278      평강              11L10003                 \n\n[279 rows x 6 columns]",
      "text/html": "<div>\n<style scoped>\n    .dataframe tbody tr th:only-of-type {\n        vertical-align: middle;\n    }\n\n    .dataframe tbody tr th {\n        vertical-align: top;\n    }\n\n    .dataframe thead th {\n        text-align: right;\n    }\n</style>\n<table border=\"1\" class=\"dataframe\">\n  <thead>\n    <tr style=\"text-align: right;\">\n      <th></th>\n      <th>전체도시이름</th>\n      <th>도단위이름</th>\n      <th>시군구이름</th>\n      <th>기온코드</th>\n      <th>육상코드</th>\n      <th>투어코드</th>\n    </tr>\n  </thead>\n  <tbody>\n    <tr>\n      <th>0</th>\n      <td>대구 서구</td>\n      <td>대구</td>\n      <td>서구</td>\n      <td></td>\n      <td></td>\n      <td>2717000000</td>\n    </tr>\n    <tr>\n      <th>1</th>\n      <td>대전 서구</td>\n      <td>대전</td>\n      <td>서구</td>\n      <td></td>\n      <td></td>\n      <td>3017000000</td>\n    </tr>\n    <tr>\n      <th>2</th>\n      <td>부산 서구</td>\n      <td>부산</td>\n      <td>서구</td>\n      <td></td>\n      <td></td>\n      <td>2614000000</td>\n    </tr>\n    <tr>\n      <th>3</th>\n      <td>인천 서구</td>\n      <td>인천</td>\n      <td>서구</td>\n      <td></td>\n      <td></td>\n      <td>2826000000</td>\n    </tr>\n    <tr>\n      <th>4</th>\n      <td>광주 서구</td>\n      <td>광주</td>\n      <td>서구</td>\n      <td></td>\n      <td></td>\n      <td>2914000000</td>\n    </tr>\n    <tr>\n      <th>...</th>\n      <td>...</td>\n      <td>...</td>\n      <td>...</td>\n      <td>...</td>\n      <td>...</td>\n      <td>...</td>\n    </tr>\n    <tr>\n      <th>274</th>\n      <td>혜산</td>\n      <td></td>\n      <td></td>\n      <td>11K20004</td>\n      <td></td>\n      <td></td>\n    </tr>\n    <tr>\n      <th>275</th>\n      <td>풍산</td>\n      <td></td>\n      <td></td>\n      <td>11K20005</td>\n      <td></td>\n      <td></td>\n    </tr>\n    <tr>\n      <th>276</th>\n      <td>원산</td>\n      <td></td>\n      <td></td>\n      <td>11L10001</td>\n      <td></td>\n      <td></td>\n    </tr>\n    <tr>\n      <th>277</th>\n      <td>고성(장전)</td>\n      <td></td>\n      <td></td>\n      <td>11L10002</td>\n      <td></td>\n      <td></td>\n    </tr>\n    <tr>\n      <th>278</th>\n      <td>평강</td>\n      <td></td>\n      <td></td>\n      <td>11L10003</td>\n      <td></td>\n      <td></td>\n    </tr>\n  </tbody>\n</table>\n<p>279 rows × 6 columns</p>\n</div>"
     },
     "execution_count": 13,
     "metadata": {},
     "output_type": "execute_result"
    }
   ],
   "source": [
    "df_merged = pd.read_csv('code_merged.csv', dtype={'투어코드': str})\n",
    "df_merged.fillna('', inplace=True)\n",
    "df_merged"
   ],
   "metadata": {
    "collapsed": false,
    "pycharm": {
     "name": "#%%\n"
    }
   }
  },
  {
   "cell_type": "code",
   "execution_count": 14,
   "outputs": [
    {
     "name": "stdout",
     "output_type": "stream",
     "text": [
      "1\n",
      "2\n",
      "3\n",
      "4\n",
      "5\n",
      "6\n",
      "7\n",
      "8\n",
      "9\n",
      "10\n",
      "11\n",
      "12\n",
      "13\n",
      "14\n",
      "15\n",
      "16\n",
      "17\n",
      "18\n",
      "19\n",
      "20\n",
      "21\n",
      "22\n",
      "23\n",
      "24\n",
      "25\n",
      "26\n",
      "27\n",
      "28\n",
      "29\n",
      "30\n",
      "31\n",
      "32\n",
      "33\n",
      "34\n",
      "35\n",
      "36\n",
      "37\n",
      "38\n",
      "39\n",
      "40\n",
      "41\n",
      "42\n",
      "43\n",
      "44\n",
      "45\n",
      "46\n",
      "47\n",
      "48\n",
      "49\n",
      "50\n",
      "51\n",
      "52\n",
      "53\n",
      "54\n",
      "55\n",
      "56\n",
      "57\n",
      "58\n",
      "59\n",
      "60\n",
      "61\n",
      "62\n",
      "63\n",
      "64\n",
      "65\n",
      "66\n",
      "67\n",
      "68\n",
      "69\n",
      "70\n",
      "71\n",
      "72\n",
      "73\n",
      "74\n",
      "75\n",
      "76\n",
      "77\n",
      "78\n",
      "79\n",
      "80\n",
      "81\n",
      "82\n",
      "83\n",
      "84\n",
      "85\n",
      "86\n",
      "87\n",
      "88\n",
      "89\n",
      "90\n",
      "91\n",
      "92\n",
      "93\n",
      "94\n",
      "95\n",
      "96\n",
      "97\n",
      "98\n",
      "99\n",
      "100\n",
      "101\n",
      "102\n",
      "103\n",
      "104\n",
      "105\n",
      "106\n",
      "107\n",
      "108\n",
      "109\n",
      "110\n",
      "111\n",
      "112\n",
      "113\n",
      "114\n",
      "115\n",
      "116\n",
      "117\n",
      "118\n",
      "119\n",
      "120\n",
      "121\n",
      "122\n",
      "123\n",
      "124\n",
      "125\n",
      "126\n",
      "127\n",
      "128\n",
      "129\n",
      "130\n",
      "131\n",
      "132\n",
      "133\n",
      "134\n",
      "135\n",
      "136\n",
      "137\n",
      "138\n",
      "139\n",
      "140\n",
      "141\n",
      "142\n",
      "143\n",
      "144\n",
      "145\n",
      "146\n",
      "147\n",
      "148\n",
      "149\n",
      "150\n",
      "151\n",
      "152\n",
      "153\n",
      "154\n",
      "155\n",
      "156\n",
      "157\n",
      "158\n",
      "159\n",
      "160\n",
      "161\n",
      "162\n",
      "163\n",
      "164\n",
      "165\n",
      "166\n",
      "167\n",
      "168\n",
      "169\n",
      "170\n",
      "171\n",
      "172\n",
      "173\n",
      "174\n",
      "175\n",
      "176\n",
      "177\n",
      "178\n",
      "179\n",
      "180\n",
      "181\n",
      "182\n",
      "183\n",
      "184\n",
      "185\n",
      "186\n",
      "187\n",
      "188\n",
      "189\n",
      "190\n",
      "191\n",
      "192\n",
      "193\n",
      "194\n",
      "195\n",
      "196\n",
      "197\n",
      "198\n",
      "199\n",
      "200\n",
      "201\n",
      "202\n",
      "203\n",
      "204\n",
      "205\n",
      "206\n",
      "207\n",
      "208\n",
      "209\n",
      "210\n",
      "211\n",
      "212\n",
      "213\n",
      "214\n",
      "215\n",
      "216\n",
      "217\n",
      "218\n",
      "219\n",
      "220\n",
      "221\n",
      "222\n",
      "223\n",
      "224\n",
      "225\n",
      "226\n",
      "227\n",
      "228\n",
      "229\n",
      "230\n",
      "231\n",
      "232\n",
      "233\n",
      "234\n"
     ]
    },
    {
     "ename": "KeyError",
     "evalue": "'날짜'",
     "output_type": "error",
     "traceback": [
      "\u001B[1;31m---------------------------------------------------------------------------\u001B[0m",
      "\u001B[1;31mKeyError\u001B[0m                                  Traceback (most recent call last)",
      "Cell \u001B[1;32mIn [14], line 17\u001B[0m\n\u001B[0;32m     15\u001B[0m \u001B[38;5;28;01mif\u001B[39;00m code_temp \u001B[38;5;241m!=\u001B[39m \u001B[38;5;124m'\u001B[39m\u001B[38;5;124m'\u001B[39m:\n\u001B[0;32m     16\u001B[0m     df_temp \u001B[38;5;241m=\u001B[39m get_temp_dataframe(code_temp)\n\u001B[1;32m---> 17\u001B[0m     df \u001B[38;5;241m=\u001B[39m \u001B[43mpd\u001B[49m\u001B[38;5;241;43m.\u001B[39;49m\u001B[43mmerge\u001B[49m\u001B[43m(\u001B[49m\u001B[43mleft\u001B[49m\u001B[38;5;241;43m=\u001B[39;49m\u001B[43mdf\u001B[49m\u001B[43m,\u001B[49m\u001B[43m \u001B[49m\u001B[43mright\u001B[49m\u001B[38;5;241;43m=\u001B[39;49m\u001B[43mdf_temp\u001B[49m\u001B[43m,\u001B[49m\u001B[43m \u001B[49m\u001B[43mon\u001B[49m\u001B[38;5;241;43m=\u001B[39;49m\u001B[43m[\u001B[49m\u001B[38;5;124;43m'\u001B[39;49m\u001B[38;5;124;43m기온코드\u001B[39;49m\u001B[38;5;124;43m'\u001B[39;49m\u001B[43m,\u001B[49m\u001B[43m \u001B[49m\u001B[38;5;124;43m'\u001B[39;49m\u001B[38;5;124;43m날짜\u001B[39;49m\u001B[38;5;124;43m'\u001B[39;49m\u001B[43m]\u001B[49m\u001B[43m,\u001B[49m\u001B[43m \u001B[49m\u001B[43mhow\u001B[49m\u001B[38;5;241;43m=\u001B[39;49m\u001B[38;5;124;43m'\u001B[39;49m\u001B[38;5;124;43mleft\u001B[39;49m\u001B[38;5;124;43m'\u001B[39;49m\u001B[43m)\u001B[49m\n\u001B[0;32m     19\u001B[0m \u001B[38;5;28;01mif\u001B[39;00m code_yooksang \u001B[38;5;241m!=\u001B[39m \u001B[38;5;124m'\u001B[39m\u001B[38;5;124m'\u001B[39m:\n\u001B[0;32m     20\u001B[0m     df_yooksang \u001B[38;5;241m=\u001B[39m get_yooksang_dataframe(code_yooksang)\n",
      "File \u001B[1;32mC:\\PythonProjects\\venv\\lib\\site-packages\\pandas\\core\\reshape\\merge.py:110\u001B[0m, in \u001B[0;36mmerge\u001B[1;34m(left, right, how, on, left_on, right_on, left_index, right_index, sort, suffixes, copy, indicator, validate)\u001B[0m\n\u001B[0;32m     93\u001B[0m \u001B[38;5;129m@Substitution\u001B[39m(\u001B[38;5;124m\"\u001B[39m\u001B[38;5;130;01m\\n\u001B[39;00m\u001B[38;5;124mleft : DataFrame or named Series\u001B[39m\u001B[38;5;124m\"\u001B[39m)\n\u001B[0;32m     94\u001B[0m \u001B[38;5;129m@Appender\u001B[39m(_merge_doc, indents\u001B[38;5;241m=\u001B[39m\u001B[38;5;241m0\u001B[39m)\n\u001B[0;32m     95\u001B[0m \u001B[38;5;28;01mdef\u001B[39;00m \u001B[38;5;21mmerge\u001B[39m(\n\u001B[1;32m   (...)\u001B[0m\n\u001B[0;32m    108\u001B[0m     validate: \u001B[38;5;28mstr\u001B[39m \u001B[38;5;241m|\u001B[39m \u001B[38;5;28;01mNone\u001B[39;00m \u001B[38;5;241m=\u001B[39m \u001B[38;5;28;01mNone\u001B[39;00m,\n\u001B[0;32m    109\u001B[0m ) \u001B[38;5;241m-\u001B[39m\u001B[38;5;241m>\u001B[39m DataFrame:\n\u001B[1;32m--> 110\u001B[0m     op \u001B[38;5;241m=\u001B[39m \u001B[43m_MergeOperation\u001B[49m\u001B[43m(\u001B[49m\n\u001B[0;32m    111\u001B[0m \u001B[43m        \u001B[49m\u001B[43mleft\u001B[49m\u001B[43m,\u001B[49m\n\u001B[0;32m    112\u001B[0m \u001B[43m        \u001B[49m\u001B[43mright\u001B[49m\u001B[43m,\u001B[49m\n\u001B[0;32m    113\u001B[0m \u001B[43m        \u001B[49m\u001B[43mhow\u001B[49m\u001B[38;5;241;43m=\u001B[39;49m\u001B[43mhow\u001B[49m\u001B[43m,\u001B[49m\n\u001B[0;32m    114\u001B[0m \u001B[43m        \u001B[49m\u001B[43mon\u001B[49m\u001B[38;5;241;43m=\u001B[39;49m\u001B[43mon\u001B[49m\u001B[43m,\u001B[49m\n\u001B[0;32m    115\u001B[0m \u001B[43m        \u001B[49m\u001B[43mleft_on\u001B[49m\u001B[38;5;241;43m=\u001B[39;49m\u001B[43mleft_on\u001B[49m\u001B[43m,\u001B[49m\n\u001B[0;32m    116\u001B[0m \u001B[43m        \u001B[49m\u001B[43mright_on\u001B[49m\u001B[38;5;241;43m=\u001B[39;49m\u001B[43mright_on\u001B[49m\u001B[43m,\u001B[49m\n\u001B[0;32m    117\u001B[0m \u001B[43m        \u001B[49m\u001B[43mleft_index\u001B[49m\u001B[38;5;241;43m=\u001B[39;49m\u001B[43mleft_index\u001B[49m\u001B[43m,\u001B[49m\n\u001B[0;32m    118\u001B[0m \u001B[43m        \u001B[49m\u001B[43mright_index\u001B[49m\u001B[38;5;241;43m=\u001B[39;49m\u001B[43mright_index\u001B[49m\u001B[43m,\u001B[49m\n\u001B[0;32m    119\u001B[0m \u001B[43m        \u001B[49m\u001B[43msort\u001B[49m\u001B[38;5;241;43m=\u001B[39;49m\u001B[43msort\u001B[49m\u001B[43m,\u001B[49m\n\u001B[0;32m    120\u001B[0m \u001B[43m        \u001B[49m\u001B[43msuffixes\u001B[49m\u001B[38;5;241;43m=\u001B[39;49m\u001B[43msuffixes\u001B[49m\u001B[43m,\u001B[49m\n\u001B[0;32m    121\u001B[0m \u001B[43m        \u001B[49m\u001B[43mindicator\u001B[49m\u001B[38;5;241;43m=\u001B[39;49m\u001B[43mindicator\u001B[49m\u001B[43m,\u001B[49m\n\u001B[0;32m    122\u001B[0m \u001B[43m        \u001B[49m\u001B[43mvalidate\u001B[49m\u001B[38;5;241;43m=\u001B[39;49m\u001B[43mvalidate\u001B[49m\u001B[43m,\u001B[49m\n\u001B[0;32m    123\u001B[0m \u001B[43m    \u001B[49m\u001B[43m)\u001B[49m\n\u001B[0;32m    124\u001B[0m     \u001B[38;5;28;01mreturn\u001B[39;00m op\u001B[38;5;241m.\u001B[39mget_result(copy\u001B[38;5;241m=\u001B[39mcopy)\n",
      "File \u001B[1;32mC:\\PythonProjects\\venv\\lib\\site-packages\\pandas\\core\\reshape\\merge.py:703\u001B[0m, in \u001B[0;36m_MergeOperation.__init__\u001B[1;34m(self, left, right, how, on, left_on, right_on, axis, left_index, right_index, sort, suffixes, indicator, validate)\u001B[0m\n\u001B[0;32m    696\u001B[0m \u001B[38;5;28mself\u001B[39m\u001B[38;5;241m.\u001B[39m_cross \u001B[38;5;241m=\u001B[39m cross_col\n\u001B[0;32m    698\u001B[0m \u001B[38;5;66;03m# note this function has side effects\u001B[39;00m\n\u001B[0;32m    699\u001B[0m (\n\u001B[0;32m    700\u001B[0m     \u001B[38;5;28mself\u001B[39m\u001B[38;5;241m.\u001B[39mleft_join_keys,\n\u001B[0;32m    701\u001B[0m     \u001B[38;5;28mself\u001B[39m\u001B[38;5;241m.\u001B[39mright_join_keys,\n\u001B[0;32m    702\u001B[0m     \u001B[38;5;28mself\u001B[39m\u001B[38;5;241m.\u001B[39mjoin_names,\n\u001B[1;32m--> 703\u001B[0m ) \u001B[38;5;241m=\u001B[39m \u001B[38;5;28;43mself\u001B[39;49m\u001B[38;5;241;43m.\u001B[39;49m\u001B[43m_get_merge_keys\u001B[49m\u001B[43m(\u001B[49m\u001B[43m)\u001B[49m\n\u001B[0;32m    705\u001B[0m \u001B[38;5;66;03m# validate the merge keys dtypes. We may need to coerce\u001B[39;00m\n\u001B[0;32m    706\u001B[0m \u001B[38;5;66;03m# to avoid incompatible dtypes\u001B[39;00m\n\u001B[0;32m    707\u001B[0m \u001B[38;5;28mself\u001B[39m\u001B[38;5;241m.\u001B[39m_maybe_coerce_merge_keys()\n",
      "File \u001B[1;32mC:\\PythonProjects\\venv\\lib\\site-packages\\pandas\\core\\reshape\\merge.py:1179\u001B[0m, in \u001B[0;36m_MergeOperation._get_merge_keys\u001B[1;34m(self)\u001B[0m\n\u001B[0;32m   1175\u001B[0m \u001B[38;5;28;01mif\u001B[39;00m lk \u001B[38;5;129;01mis\u001B[39;00m \u001B[38;5;129;01mnot\u001B[39;00m \u001B[38;5;28;01mNone\u001B[39;00m:\n\u001B[0;32m   1176\u001B[0m     \u001B[38;5;66;03m# Then we're either Hashable or a wrong-length arraylike,\u001B[39;00m\n\u001B[0;32m   1177\u001B[0m     \u001B[38;5;66;03m#  the latter of which will raise\u001B[39;00m\n\u001B[0;32m   1178\u001B[0m     lk \u001B[38;5;241m=\u001B[39m cast(Hashable, lk)\n\u001B[1;32m-> 1179\u001B[0m     left_keys\u001B[38;5;241m.\u001B[39mappend(\u001B[43mleft\u001B[49m\u001B[38;5;241;43m.\u001B[39;49m\u001B[43m_get_label_or_level_values\u001B[49m\u001B[43m(\u001B[49m\u001B[43mlk\u001B[49m\u001B[43m)\u001B[49m)\n\u001B[0;32m   1180\u001B[0m     join_names\u001B[38;5;241m.\u001B[39mappend(lk)\n\u001B[0;32m   1181\u001B[0m \u001B[38;5;28;01melse\u001B[39;00m:\n\u001B[0;32m   1182\u001B[0m     \u001B[38;5;66;03m# work-around for merge_asof(left_index=True)\u001B[39;00m\n",
      "File \u001B[1;32mC:\\PythonProjects\\venv\\lib\\site-packages\\pandas\\core\\generic.py:1850\u001B[0m, in \u001B[0;36mNDFrame._get_label_or_level_values\u001B[1;34m(self, key, axis)\u001B[0m\n\u001B[0;32m   1844\u001B[0m     values \u001B[38;5;241m=\u001B[39m (\n\u001B[0;32m   1845\u001B[0m         \u001B[38;5;28mself\u001B[39m\u001B[38;5;241m.\u001B[39maxes[axis]\n\u001B[0;32m   1846\u001B[0m         \u001B[38;5;241m.\u001B[39mget_level_values(key)  \u001B[38;5;66;03m# type: ignore[assignment]\u001B[39;00m\n\u001B[0;32m   1847\u001B[0m         \u001B[38;5;241m.\u001B[39m_values\n\u001B[0;32m   1848\u001B[0m     )\n\u001B[0;32m   1849\u001B[0m \u001B[38;5;28;01melse\u001B[39;00m:\n\u001B[1;32m-> 1850\u001B[0m     \u001B[38;5;28;01mraise\u001B[39;00m \u001B[38;5;167;01mKeyError\u001B[39;00m(key)\n\u001B[0;32m   1852\u001B[0m \u001B[38;5;66;03m# Check for duplicates\u001B[39;00m\n\u001B[0;32m   1853\u001B[0m \u001B[38;5;28;01mif\u001B[39;00m values\u001B[38;5;241m.\u001B[39mndim \u001B[38;5;241m>\u001B[39m \u001B[38;5;241m1\u001B[39m:\n",
      "\u001B[1;31mKeyError\u001B[0m: '날짜'"
     ]
    }
   ],
   "source": [
    "df_total = pd.DataFrame()\n",
    "counter = 1\n",
    "for row in df_merged.iterrows(): # row : [idx, {column1 : value1, .. }]\n",
    "    print(counter)\n",
    "    counter += 1\n",
    "    code_tour = row[1]['투어코드']\n",
    "    code_temp = row[1]['기온코드']\n",
    "    code_yooksang = row[1]['육상코드']\n",
    "    df = pd.DataFrame(row[1]).T\n",
    "\n",
    "    if code_tour != '':\n",
    "        df_tour = get_tour_dataframe(code_tour)\n",
    "        df = pd.merge(left=df, right=df_tour, on='투어코드', how='left')\n",
    "\n",
    "    if code_temp != '':\n",
    "        df_temp = get_temp_dataframe(code_temp)\n",
    "        df = pd.merge(left=df, right=df_temp, on=['기온코드', '날짜'], how='left')\n",
    "\n",
    "    if code_yooksang != '':\n",
    "        df_yooksang = get_yooksang_dataframe(code_yooksang)\n",
    "        df = pd.merge(left=df, right=df_yooksang, on=['육상코드', '날짜'], how='left')\n",
    "\n",
    "    df_total = pd.concat([df_total, df])"
   ],
   "metadata": {
    "collapsed": false,
    "pycharm": {
     "name": "#%%\n"
    }
   }
  },
  {
   "cell_type": "code",
   "execution_count": 15,
   "outputs": [
    {
     "data": {
      "text/plain": "             전체도시이름 도단위이름 시군구이름 최소기온 최대기온 오전날씨 오전비확률 오후날씨 오후비확률  관광지수  관광지표\n날짜                                                                         \n2023-04-25   대구 달성군    대구   달성군                                 -0.29    나쁨\n2023-04-25    대구 동구    대구    동구                                 -0.25    보통\n2023-04-25   경북 성주군    경북   성주군                                 -0.29    나쁨\n2023-04-25   인천 강화군    인천   강화군                                 -0.29    나쁨\n2023-04-25   경기 광주시    경기   광주시                                 -0.29    나쁨\n...             ...   ...   ...  ...  ...  ...   ...  ...   ...   ...   ...\n2023-05-04  경기 의정부시    경기  의정부시   11   23   흐림   40%   흐림   40%  0.34    좋음\n2023-05-04   서울 용산구    서울   용산구                                  0.38  매우좋음\n2023-05-04   경기 의왕시    경기   의왕시   10   23   흐림   40%   흐림   40%  0.32    좋음\n2023-05-04   서울 성북구    서울   성북구                                  0.38  매우좋음\n2023-05-04    대구 서구    대구    서구                                  0.38  매우좋음\n\n[2330 rows x 11 columns]",
      "text/html": "<div>\n<style scoped>\n    .dataframe tbody tr th:only-of-type {\n        vertical-align: middle;\n    }\n\n    .dataframe tbody tr th {\n        vertical-align: top;\n    }\n\n    .dataframe thead th {\n        text-align: right;\n    }\n</style>\n<table border=\"1\" class=\"dataframe\">\n  <thead>\n    <tr style=\"text-align: right;\">\n      <th></th>\n      <th>전체도시이름</th>\n      <th>도단위이름</th>\n      <th>시군구이름</th>\n      <th>최소기온</th>\n      <th>최대기온</th>\n      <th>오전날씨</th>\n      <th>오전비확률</th>\n      <th>오후날씨</th>\n      <th>오후비확률</th>\n      <th>관광지수</th>\n      <th>관광지표</th>\n    </tr>\n    <tr>\n      <th>날짜</th>\n      <th></th>\n      <th></th>\n      <th></th>\n      <th></th>\n      <th></th>\n      <th></th>\n      <th></th>\n      <th></th>\n      <th></th>\n      <th></th>\n      <th></th>\n    </tr>\n  </thead>\n  <tbody>\n    <tr>\n      <th>2023-04-25</th>\n      <td>대구 달성군</td>\n      <td>대구</td>\n      <td>달성군</td>\n      <td></td>\n      <td></td>\n      <td></td>\n      <td></td>\n      <td></td>\n      <td></td>\n      <td>-0.29</td>\n      <td>나쁨</td>\n    </tr>\n    <tr>\n      <th>2023-04-25</th>\n      <td>대구 동구</td>\n      <td>대구</td>\n      <td>동구</td>\n      <td></td>\n      <td></td>\n      <td></td>\n      <td></td>\n      <td></td>\n      <td></td>\n      <td>-0.25</td>\n      <td>보통</td>\n    </tr>\n    <tr>\n      <th>2023-04-25</th>\n      <td>경북 성주군</td>\n      <td>경북</td>\n      <td>성주군</td>\n      <td></td>\n      <td></td>\n      <td></td>\n      <td></td>\n      <td></td>\n      <td></td>\n      <td>-0.29</td>\n      <td>나쁨</td>\n    </tr>\n    <tr>\n      <th>2023-04-25</th>\n      <td>인천 강화군</td>\n      <td>인천</td>\n      <td>강화군</td>\n      <td></td>\n      <td></td>\n      <td></td>\n      <td></td>\n      <td></td>\n      <td></td>\n      <td>-0.29</td>\n      <td>나쁨</td>\n    </tr>\n    <tr>\n      <th>2023-04-25</th>\n      <td>경기 광주시</td>\n      <td>경기</td>\n      <td>광주시</td>\n      <td></td>\n      <td></td>\n      <td></td>\n      <td></td>\n      <td></td>\n      <td></td>\n      <td>-0.29</td>\n      <td>나쁨</td>\n    </tr>\n    <tr>\n      <th>...</th>\n      <td>...</td>\n      <td>...</td>\n      <td>...</td>\n      <td>...</td>\n      <td>...</td>\n      <td>...</td>\n      <td>...</td>\n      <td>...</td>\n      <td>...</td>\n      <td>...</td>\n      <td>...</td>\n    </tr>\n    <tr>\n      <th>2023-05-04</th>\n      <td>경기 의정부시</td>\n      <td>경기</td>\n      <td>의정부시</td>\n      <td>11</td>\n      <td>23</td>\n      <td>흐림</td>\n      <td>40%</td>\n      <td>흐림</td>\n      <td>40%</td>\n      <td>0.34</td>\n      <td>좋음</td>\n    </tr>\n    <tr>\n      <th>2023-05-04</th>\n      <td>서울 용산구</td>\n      <td>서울</td>\n      <td>용산구</td>\n      <td></td>\n      <td></td>\n      <td></td>\n      <td></td>\n      <td></td>\n      <td></td>\n      <td>0.38</td>\n      <td>매우좋음</td>\n    </tr>\n    <tr>\n      <th>2023-05-04</th>\n      <td>경기 의왕시</td>\n      <td>경기</td>\n      <td>의왕시</td>\n      <td>10</td>\n      <td>23</td>\n      <td>흐림</td>\n      <td>40%</td>\n      <td>흐림</td>\n      <td>40%</td>\n      <td>0.32</td>\n      <td>좋음</td>\n    </tr>\n    <tr>\n      <th>2023-05-04</th>\n      <td>서울 성북구</td>\n      <td>서울</td>\n      <td>성북구</td>\n      <td></td>\n      <td></td>\n      <td></td>\n      <td></td>\n      <td></td>\n      <td></td>\n      <td>0.38</td>\n      <td>매우좋음</td>\n    </tr>\n    <tr>\n      <th>2023-05-04</th>\n      <td>대구 서구</td>\n      <td>대구</td>\n      <td>서구</td>\n      <td></td>\n      <td></td>\n      <td></td>\n      <td></td>\n      <td></td>\n      <td></td>\n      <td>0.38</td>\n      <td>매우좋음</td>\n    </tr>\n  </tbody>\n</table>\n<p>2330 rows × 11 columns</p>\n</div>"
     },
     "execution_count": 15,
     "metadata": {},
     "output_type": "execute_result"
    }
   ],
   "source": [
    "columns = ['날짜', '전체도시이름', '도단위이름', '시군구이름', '최소기온', '최대기온', '오전날씨', '오전비확률', '오후날씨', '오후비확률', '관광지수', '관광지표']\n",
    "df_total = df_total[columns]\n",
    "df_total.fillna('', inplace=True)\n",
    "df_total.set_index('날짜', inplace=True)\n",
    "df_total.sort_values('날짜', inplace=True)\n",
    "df_total"
   ],
   "metadata": {
    "collapsed": false,
    "pycharm": {
     "name": "#%%\n"
    }
   }
  },
  {
   "cell_type": "code",
   "execution_count": 16,
   "outputs": [],
   "source": [
    "df_total.to_csv('city_with_weather.csv', encoding='utf-8')"
   ],
   "metadata": {
    "collapsed": false,
    "pycharm": {
     "name": "#%%\n"
    }
   }
  },
  {
   "cell_type": "code",
   "execution_count": 17,
   "outputs": [
    {
     "ename": "KeyError",
     "evalue": "'도시'",
     "output_type": "error",
     "traceback": [
      "\u001B[1;31m---------------------------------------------------------------------------\u001B[0m",
      "\u001B[1;31mKeyError\u001B[0m                                  Traceback (most recent call last)",
      "File \u001B[1;32mC:\\PythonProjects\\venv\\lib\\site-packages\\pandas\\core\\indexes\\base.py:3803\u001B[0m, in \u001B[0;36mIndex.get_loc\u001B[1;34m(self, key, method, tolerance)\u001B[0m\n\u001B[0;32m   3802\u001B[0m \u001B[38;5;28;01mtry\u001B[39;00m:\n\u001B[1;32m-> 3803\u001B[0m     \u001B[38;5;28;01mreturn\u001B[39;00m \u001B[38;5;28;43mself\u001B[39;49m\u001B[38;5;241;43m.\u001B[39;49m\u001B[43m_engine\u001B[49m\u001B[38;5;241;43m.\u001B[39;49m\u001B[43mget_loc\u001B[49m\u001B[43m(\u001B[49m\u001B[43mcasted_key\u001B[49m\u001B[43m)\u001B[49m\n\u001B[0;32m   3804\u001B[0m \u001B[38;5;28;01mexcept\u001B[39;00m \u001B[38;5;167;01mKeyError\u001B[39;00m \u001B[38;5;28;01mas\u001B[39;00m err:\n",
      "File \u001B[1;32mC:\\PythonProjects\\venv\\lib\\site-packages\\pandas\\_libs\\index.pyx:138\u001B[0m, in \u001B[0;36mpandas._libs.index.IndexEngine.get_loc\u001B[1;34m()\u001B[0m\n",
      "File \u001B[1;32mC:\\PythonProjects\\venv\\lib\\site-packages\\pandas\\_libs\\index.pyx:165\u001B[0m, in \u001B[0;36mpandas._libs.index.IndexEngine.get_loc\u001B[1;34m()\u001B[0m\n",
      "File \u001B[1;32mpandas\\_libs\\hashtable_class_helper.pxi:5745\u001B[0m, in \u001B[0;36mpandas._libs.hashtable.PyObjectHashTable.get_item\u001B[1;34m()\u001B[0m\n",
      "File \u001B[1;32mpandas\\_libs\\hashtable_class_helper.pxi:5753\u001B[0m, in \u001B[0;36mpandas._libs.hashtable.PyObjectHashTable.get_item\u001B[1;34m()\u001B[0m\n",
      "\u001B[1;31mKeyError\u001B[0m: '도시'",
      "\nThe above exception was the direct cause of the following exception:\n",
      "\u001B[1;31mKeyError\u001B[0m                                  Traceback (most recent call last)",
      "Cell \u001B[1;32mIn [17], line 1\u001B[0m\n\u001B[1;32m----> 1\u001B[0m \u001B[43mdf_temp\u001B[49m\u001B[43m[\u001B[49m\u001B[38;5;124;43m'\u001B[39;49m\u001B[38;5;124;43m도시\u001B[39;49m\u001B[38;5;124;43m'\u001B[39;49m\u001B[43m]\u001B[49m[df_temp[\u001B[38;5;124m'\u001B[39m\u001B[38;5;124m도시\u001B[39m\u001B[38;5;124m'\u001B[39m] \u001B[38;5;241m==\u001B[39m df_merged[\u001B[38;5;124m'\u001B[39m\u001B[38;5;124m도단위이름\u001B[39m\u001B[38;5;124m'\u001B[39m]]\n",
      "File \u001B[1;32mC:\\PythonProjects\\venv\\lib\\site-packages\\pandas\\core\\frame.py:3804\u001B[0m, in \u001B[0;36mDataFrame.__getitem__\u001B[1;34m(self, key)\u001B[0m\n\u001B[0;32m   3802\u001B[0m \u001B[38;5;28;01mif\u001B[39;00m \u001B[38;5;28mself\u001B[39m\u001B[38;5;241m.\u001B[39mcolumns\u001B[38;5;241m.\u001B[39mnlevels \u001B[38;5;241m>\u001B[39m \u001B[38;5;241m1\u001B[39m:\n\u001B[0;32m   3803\u001B[0m     \u001B[38;5;28;01mreturn\u001B[39;00m \u001B[38;5;28mself\u001B[39m\u001B[38;5;241m.\u001B[39m_getitem_multilevel(key)\n\u001B[1;32m-> 3804\u001B[0m indexer \u001B[38;5;241m=\u001B[39m \u001B[38;5;28;43mself\u001B[39;49m\u001B[38;5;241;43m.\u001B[39;49m\u001B[43mcolumns\u001B[49m\u001B[38;5;241;43m.\u001B[39;49m\u001B[43mget_loc\u001B[49m\u001B[43m(\u001B[49m\u001B[43mkey\u001B[49m\u001B[43m)\u001B[49m\n\u001B[0;32m   3805\u001B[0m \u001B[38;5;28;01mif\u001B[39;00m is_integer(indexer):\n\u001B[0;32m   3806\u001B[0m     indexer \u001B[38;5;241m=\u001B[39m [indexer]\n",
      "File \u001B[1;32mC:\\PythonProjects\\venv\\lib\\site-packages\\pandas\\core\\indexes\\base.py:3805\u001B[0m, in \u001B[0;36mIndex.get_loc\u001B[1;34m(self, key, method, tolerance)\u001B[0m\n\u001B[0;32m   3803\u001B[0m     \u001B[38;5;28;01mreturn\u001B[39;00m \u001B[38;5;28mself\u001B[39m\u001B[38;5;241m.\u001B[39m_engine\u001B[38;5;241m.\u001B[39mget_loc(casted_key)\n\u001B[0;32m   3804\u001B[0m \u001B[38;5;28;01mexcept\u001B[39;00m \u001B[38;5;167;01mKeyError\u001B[39;00m \u001B[38;5;28;01mas\u001B[39;00m err:\n\u001B[1;32m-> 3805\u001B[0m     \u001B[38;5;28;01mraise\u001B[39;00m \u001B[38;5;167;01mKeyError\u001B[39;00m(key) \u001B[38;5;28;01mfrom\u001B[39;00m \u001B[38;5;21;01merr\u001B[39;00m\n\u001B[0;32m   3806\u001B[0m \u001B[38;5;28;01mexcept\u001B[39;00m \u001B[38;5;167;01mTypeError\u001B[39;00m:\n\u001B[0;32m   3807\u001B[0m     \u001B[38;5;66;03m# If we have a listlike key, _check_indexing_error will raise\u001B[39;00m\n\u001B[0;32m   3808\u001B[0m     \u001B[38;5;66;03m#  InvalidIndexError. Otherwise we fall through and re-raise\u001B[39;00m\n\u001B[0;32m   3809\u001B[0m     \u001B[38;5;66;03m#  the TypeError.\u001B[39;00m\n\u001B[0;32m   3810\u001B[0m     \u001B[38;5;28mself\u001B[39m\u001B[38;5;241m.\u001B[39m_check_indexing_error(key)\n",
      "\u001B[1;31mKeyError\u001B[0m: '도시'"
     ]
    }
   ],
   "source": [],
   "metadata": {
    "collapsed": false,
    "pycharm": {
     "name": "#%%\n"
    }
   }
  },
  {
   "cell_type": "code",
   "execution_count": 19,
   "outputs": [],
   "source": [
    "df_temp = pd.read_csv('code_temp.csv')\n",
    "df_yooksang = pd.read_csv('code_yooksang.csv')\n",
    "df_info = pd.read_csv('code_informations.csv')"
   ],
   "metadata": {
    "collapsed": false,
    "pycharm": {
     "name": "#%%\n"
    }
   }
  },
  {
   "cell_type": "code",
   "execution_count": 22,
   "outputs": [
    {
     "ename": "ValueError",
     "evalue": "Can only compare identically-labeled Series objects",
     "output_type": "error",
     "traceback": [
      "\u001B[1;31m---------------------------------------------------------------------------\u001B[0m",
      "\u001B[1;31mValueError\u001B[0m                                Traceback (most recent call last)",
      "Cell \u001B[1;32mIn [22], line 1\u001B[0m\n\u001B[1;32m----> 1\u001B[0m df_temp[\u001B[38;5;124m'\u001B[39m\u001B[38;5;124m도시\u001B[39m\u001B[38;5;124m'\u001B[39m]\u001B[38;5;241m.\u001B[39mloc[\u001B[43mdf_temp\u001B[49m\u001B[43m[\u001B[49m\u001B[38;5;124;43m'\u001B[39;49m\u001B[38;5;124;43m도시\u001B[39;49m\u001B[38;5;124;43m'\u001B[39;49m\u001B[43m]\u001B[49m\u001B[43m \u001B[49m\u001B[38;5;241;43m==\u001B[39;49m\u001B[43m \u001B[49m\u001B[43mdf_merged\u001B[49m\u001B[43m[\u001B[49m\u001B[38;5;124;43m'\u001B[39;49m\u001B[38;5;124;43m도단위이름\u001B[39;49m\u001B[38;5;124;43m'\u001B[39;49m\u001B[43m]\u001B[49m]\n",
      "File \u001B[1;32mC:\\PythonProjects\\venv\\lib\\site-packages\\pandas\\core\\ops\\common.py:72\u001B[0m, in \u001B[0;36m_unpack_zerodim_and_defer.<locals>.new_method\u001B[1;34m(self, other)\u001B[0m\n\u001B[0;32m     68\u001B[0m             \u001B[38;5;28;01mreturn\u001B[39;00m \u001B[38;5;28mNotImplemented\u001B[39m\n\u001B[0;32m     70\u001B[0m other \u001B[38;5;241m=\u001B[39m item_from_zerodim(other)\n\u001B[1;32m---> 72\u001B[0m \u001B[38;5;28;01mreturn\u001B[39;00m \u001B[43mmethod\u001B[49m\u001B[43m(\u001B[49m\u001B[38;5;28;43mself\u001B[39;49m\u001B[43m,\u001B[49m\u001B[43m \u001B[49m\u001B[43mother\u001B[49m\u001B[43m)\u001B[49m\n",
      "File \u001B[1;32mC:\\PythonProjects\\venv\\lib\\site-packages\\pandas\\core\\arraylike.py:42\u001B[0m, in \u001B[0;36mOpsMixin.__eq__\u001B[1;34m(self, other)\u001B[0m\n\u001B[0;32m     40\u001B[0m \u001B[38;5;129m@unpack_zerodim_and_defer\u001B[39m(\u001B[38;5;124m\"\u001B[39m\u001B[38;5;124m__eq__\u001B[39m\u001B[38;5;124m\"\u001B[39m)\n\u001B[0;32m     41\u001B[0m \u001B[38;5;28;01mdef\u001B[39;00m \u001B[38;5;21m__eq__\u001B[39m(\u001B[38;5;28mself\u001B[39m, other):\n\u001B[1;32m---> 42\u001B[0m     \u001B[38;5;28;01mreturn\u001B[39;00m \u001B[38;5;28;43mself\u001B[39;49m\u001B[38;5;241;43m.\u001B[39;49m\u001B[43m_cmp_method\u001B[49m\u001B[43m(\u001B[49m\u001B[43mother\u001B[49m\u001B[43m,\u001B[49m\u001B[43m \u001B[49m\u001B[43moperator\u001B[49m\u001B[38;5;241;43m.\u001B[39;49m\u001B[43meq\u001B[49m\u001B[43m)\u001B[49m\n",
      "File \u001B[1;32mC:\\PythonProjects\\venv\\lib\\site-packages\\pandas\\core\\series.py:6237\u001B[0m, in \u001B[0;36mSeries._cmp_method\u001B[1;34m(self, other, op)\u001B[0m\n\u001B[0;32m   6234\u001B[0m res_name \u001B[38;5;241m=\u001B[39m ops\u001B[38;5;241m.\u001B[39mget_op_result_name(\u001B[38;5;28mself\u001B[39m, other)\n\u001B[0;32m   6236\u001B[0m \u001B[38;5;28;01mif\u001B[39;00m \u001B[38;5;28misinstance\u001B[39m(other, Series) \u001B[38;5;129;01mand\u001B[39;00m \u001B[38;5;129;01mnot\u001B[39;00m \u001B[38;5;28mself\u001B[39m\u001B[38;5;241m.\u001B[39m_indexed_same(other):\n\u001B[1;32m-> 6237\u001B[0m     \u001B[38;5;28;01mraise\u001B[39;00m \u001B[38;5;167;01mValueError\u001B[39;00m(\u001B[38;5;124m\"\u001B[39m\u001B[38;5;124mCan only compare identically-labeled Series objects\u001B[39m\u001B[38;5;124m\"\u001B[39m)\n\u001B[0;32m   6239\u001B[0m lvalues \u001B[38;5;241m=\u001B[39m \u001B[38;5;28mself\u001B[39m\u001B[38;5;241m.\u001B[39m_values\n\u001B[0;32m   6240\u001B[0m rvalues \u001B[38;5;241m=\u001B[39m extract_array(other, extract_numpy\u001B[38;5;241m=\u001B[39m\u001B[38;5;28;01mTrue\u001B[39;00m, extract_range\u001B[38;5;241m=\u001B[39m\u001B[38;5;28;01mTrue\u001B[39;00m)\n",
      "\u001B[1;31mValueError\u001B[0m: Can only compare identically-labeled Series objects"
     ]
    }
   ],
   "source": [
    "df_temp['도시'].loc[df_temp['도시'] == df_merged['도단위이름']]"
   ],
   "metadata": {
    "collapsed": false,
    "pycharm": {
     "name": "#%%\n"
    }
   }
  },
  {
   "cell_type": "code",
   "execution_count": 24,
   "outputs": [
    {
     "data": {
      "text/plain": "      도시      기온코드\n0    백령도  11A00101\n1     서울  11B10101\n2     과천  11B10102\n3     광명  11B10103\n4     강화  11B20101\n..   ...       ...\n169   함안  11H20603\n170   창녕  11H20604\n171   진주  11H20701\n172   산청  11H20703\n173   하동  11H20704\n\n[174 rows x 2 columns]",
      "text/html": "<div>\n<style scoped>\n    .dataframe tbody tr th:only-of-type {\n        vertical-align: middle;\n    }\n\n    .dataframe tbody tr th {\n        vertical-align: top;\n    }\n\n    .dataframe thead th {\n        text-align: right;\n    }\n</style>\n<table border=\"1\" class=\"dataframe\">\n  <thead>\n    <tr style=\"text-align: right;\">\n      <th></th>\n      <th>도시</th>\n      <th>기온코드</th>\n    </tr>\n  </thead>\n  <tbody>\n    <tr>\n      <th>0</th>\n      <td>백령도</td>\n      <td>11A00101</td>\n    </tr>\n    <tr>\n      <th>1</th>\n      <td>서울</td>\n      <td>11B10101</td>\n    </tr>\n    <tr>\n      <th>2</th>\n      <td>과천</td>\n      <td>11B10102</td>\n    </tr>\n    <tr>\n      <th>3</th>\n      <td>광명</td>\n      <td>11B10103</td>\n    </tr>\n    <tr>\n      <th>4</th>\n      <td>강화</td>\n      <td>11B20101</td>\n    </tr>\n    <tr>\n      <th>...</th>\n      <td>...</td>\n      <td>...</td>\n    </tr>\n    <tr>\n      <th>169</th>\n      <td>함안</td>\n      <td>11H20603</td>\n    </tr>\n    <tr>\n      <th>170</th>\n      <td>창녕</td>\n      <td>11H20604</td>\n    </tr>\n    <tr>\n      <th>171</th>\n      <td>진주</td>\n      <td>11H20701</td>\n    </tr>\n    <tr>\n      <th>172</th>\n      <td>산청</td>\n      <td>11H20703</td>\n    </tr>\n    <tr>\n      <th>173</th>\n      <td>하동</td>\n      <td>11H20704</td>\n    </tr>\n  </tbody>\n</table>\n<p>174 rows × 2 columns</p>\n</div>"
     },
     "execution_count": 24,
     "metadata": {},
     "output_type": "execute_result"
    }
   ],
   "source": [
    "df_temp"
   ],
   "metadata": {
    "collapsed": false,
    "pycharm": {
     "name": "#%%\n"
    }
   }
  },
  {
   "cell_type": "code",
   "execution_count": 27,
   "outputs": [
    {
     "ename": "ValueError",
     "evalue": "columns overlap but no suffix specified: Index(['기온코드'], dtype='object')",
     "output_type": "error",
     "traceback": [
      "\u001B[1;31m---------------------------------------------------------------------------\u001B[0m",
      "\u001B[1;31mValueError\u001B[0m                                Traceback (most recent call last)",
      "Cell \u001B[1;32mIn [27], line 1\u001B[0m\n\u001B[1;32m----> 1\u001B[0m \u001B[43mpd\u001B[49m\u001B[38;5;241;43m.\u001B[39;49m\u001B[43mmerge\u001B[49m\u001B[43m(\u001B[49m\u001B[43mleft\u001B[49m\u001B[38;5;241;43m=\u001B[39;49m\u001B[43mdf_merged\u001B[49m\u001B[43m,\u001B[49m\u001B[43m \u001B[49m\u001B[43mright\u001B[49m\u001B[38;5;241;43m=\u001B[39;49m\u001B[43mdf_temp\u001B[49m\u001B[43m,\u001B[49m\u001B[43m \u001B[49m\u001B[43mhow\u001B[49m\u001B[38;5;241;43m=\u001B[39;49m\u001B[38;5;124;43m'\u001B[39;49m\u001B[38;5;124;43mleft\u001B[39;49m\u001B[38;5;124;43m'\u001B[39;49m\u001B[43m,\u001B[49m\u001B[43m \u001B[49m\u001B[43mleft_on\u001B[49m\u001B[38;5;241;43m=\u001B[39;49m\u001B[38;5;124;43m'\u001B[39;49m\u001B[38;5;124;43m도단위이름\u001B[39;49m\u001B[38;5;124;43m'\u001B[39;49m\u001B[43m,\u001B[49m\u001B[43m \u001B[49m\u001B[43mright_on\u001B[49m\u001B[38;5;241;43m=\u001B[39;49m\u001B[38;5;124;43m'\u001B[39;49m\u001B[38;5;124;43m도시\u001B[39;49m\u001B[38;5;124;43m'\u001B[39;49m\u001B[43m,\u001B[49m\u001B[43m \u001B[49m\u001B[43msuffixes\u001B[49m\u001B[38;5;241;43m=\u001B[39;49m\u001B[43m(\u001B[49m\u001B[38;5;124;43m'\u001B[39;49m\u001B[38;5;124;43m'\u001B[39;49m\u001B[43m,\u001B[49m\u001B[43m \u001B[49m\u001B[38;5;124;43m'\u001B[39;49m\u001B[38;5;124;43m'\u001B[39;49m\u001B[43m)\u001B[49m\u001B[43m)\u001B[49m\n",
      "File \u001B[1;32mC:\\PythonProjects\\venv\\lib\\site-packages\\pandas\\core\\reshape\\merge.py:124\u001B[0m, in \u001B[0;36mmerge\u001B[1;34m(left, right, how, on, left_on, right_on, left_index, right_index, sort, suffixes, copy, indicator, validate)\u001B[0m\n\u001B[0;32m     93\u001B[0m \u001B[38;5;129m@Substitution\u001B[39m(\u001B[38;5;124m\"\u001B[39m\u001B[38;5;130;01m\\n\u001B[39;00m\u001B[38;5;124mleft : DataFrame or named Series\u001B[39m\u001B[38;5;124m\"\u001B[39m)\n\u001B[0;32m     94\u001B[0m \u001B[38;5;129m@Appender\u001B[39m(_merge_doc, indents\u001B[38;5;241m=\u001B[39m\u001B[38;5;241m0\u001B[39m)\n\u001B[0;32m     95\u001B[0m \u001B[38;5;28;01mdef\u001B[39;00m \u001B[38;5;21mmerge\u001B[39m(\n\u001B[1;32m   (...)\u001B[0m\n\u001B[0;32m    108\u001B[0m     validate: \u001B[38;5;28mstr\u001B[39m \u001B[38;5;241m|\u001B[39m \u001B[38;5;28;01mNone\u001B[39;00m \u001B[38;5;241m=\u001B[39m \u001B[38;5;28;01mNone\u001B[39;00m,\n\u001B[0;32m    109\u001B[0m ) \u001B[38;5;241m-\u001B[39m\u001B[38;5;241m>\u001B[39m DataFrame:\n\u001B[0;32m    110\u001B[0m     op \u001B[38;5;241m=\u001B[39m _MergeOperation(\n\u001B[0;32m    111\u001B[0m         left,\n\u001B[0;32m    112\u001B[0m         right,\n\u001B[1;32m   (...)\u001B[0m\n\u001B[0;32m    122\u001B[0m         validate\u001B[38;5;241m=\u001B[39mvalidate,\n\u001B[0;32m    123\u001B[0m     )\n\u001B[1;32m--> 124\u001B[0m     \u001B[38;5;28;01mreturn\u001B[39;00m \u001B[43mop\u001B[49m\u001B[38;5;241;43m.\u001B[39;49m\u001B[43mget_result\u001B[49m\u001B[43m(\u001B[49m\u001B[43mcopy\u001B[49m\u001B[38;5;241;43m=\u001B[39;49m\u001B[43mcopy\u001B[49m\u001B[43m)\u001B[49m\n",
      "File \u001B[1;32mC:\\PythonProjects\\venv\\lib\\site-packages\\pandas\\core\\reshape\\merge.py:775\u001B[0m, in \u001B[0;36m_MergeOperation.get_result\u001B[1;34m(self, copy)\u001B[0m\n\u001B[0;32m    771\u001B[0m     \u001B[38;5;28mself\u001B[39m\u001B[38;5;241m.\u001B[39mleft, \u001B[38;5;28mself\u001B[39m\u001B[38;5;241m.\u001B[39mright \u001B[38;5;241m=\u001B[39m \u001B[38;5;28mself\u001B[39m\u001B[38;5;241m.\u001B[39m_indicator_pre_merge(\u001B[38;5;28mself\u001B[39m\u001B[38;5;241m.\u001B[39mleft, \u001B[38;5;28mself\u001B[39m\u001B[38;5;241m.\u001B[39mright)\n\u001B[0;32m    773\u001B[0m join_index, left_indexer, right_indexer \u001B[38;5;241m=\u001B[39m \u001B[38;5;28mself\u001B[39m\u001B[38;5;241m.\u001B[39m_get_join_info()\n\u001B[1;32m--> 775\u001B[0m result \u001B[38;5;241m=\u001B[39m \u001B[38;5;28;43mself\u001B[39;49m\u001B[38;5;241;43m.\u001B[39;49m\u001B[43m_reindex_and_concat\u001B[49m\u001B[43m(\u001B[49m\n\u001B[0;32m    776\u001B[0m \u001B[43m    \u001B[49m\u001B[43mjoin_index\u001B[49m\u001B[43m,\u001B[49m\u001B[43m \u001B[49m\u001B[43mleft_indexer\u001B[49m\u001B[43m,\u001B[49m\u001B[43m \u001B[49m\u001B[43mright_indexer\u001B[49m\u001B[43m,\u001B[49m\u001B[43m \u001B[49m\u001B[43mcopy\u001B[49m\u001B[38;5;241;43m=\u001B[39;49m\u001B[43mcopy\u001B[49m\n\u001B[0;32m    777\u001B[0m \u001B[43m\u001B[49m\u001B[43m)\u001B[49m\n\u001B[0;32m    778\u001B[0m result \u001B[38;5;241m=\u001B[39m result\u001B[38;5;241m.\u001B[39m__finalize__(\u001B[38;5;28mself\u001B[39m, method\u001B[38;5;241m=\u001B[39m\u001B[38;5;28mself\u001B[39m\u001B[38;5;241m.\u001B[39m_merge_type)\n\u001B[0;32m    780\u001B[0m \u001B[38;5;28;01mif\u001B[39;00m \u001B[38;5;28mself\u001B[39m\u001B[38;5;241m.\u001B[39mindicator:\n",
      "File \u001B[1;32mC:\\PythonProjects\\venv\\lib\\site-packages\\pandas\\core\\reshape\\merge.py:729\u001B[0m, in \u001B[0;36m_MergeOperation._reindex_and_concat\u001B[1;34m(self, join_index, left_indexer, right_indexer, copy)\u001B[0m\n\u001B[0;32m    726\u001B[0m left \u001B[38;5;241m=\u001B[39m \u001B[38;5;28mself\u001B[39m\u001B[38;5;241m.\u001B[39mleft[:]\n\u001B[0;32m    727\u001B[0m right \u001B[38;5;241m=\u001B[39m \u001B[38;5;28mself\u001B[39m\u001B[38;5;241m.\u001B[39mright[:]\n\u001B[1;32m--> 729\u001B[0m llabels, rlabels \u001B[38;5;241m=\u001B[39m \u001B[43m_items_overlap_with_suffix\u001B[49m\u001B[43m(\u001B[49m\n\u001B[0;32m    730\u001B[0m \u001B[43m    \u001B[49m\u001B[38;5;28;43mself\u001B[39;49m\u001B[38;5;241;43m.\u001B[39;49m\u001B[43mleft\u001B[49m\u001B[38;5;241;43m.\u001B[39;49m\u001B[43m_info_axis\u001B[49m\u001B[43m,\u001B[49m\u001B[43m \u001B[49m\u001B[38;5;28;43mself\u001B[39;49m\u001B[38;5;241;43m.\u001B[39;49m\u001B[43mright\u001B[49m\u001B[38;5;241;43m.\u001B[39;49m\u001B[43m_info_axis\u001B[49m\u001B[43m,\u001B[49m\u001B[43m \u001B[49m\u001B[38;5;28;43mself\u001B[39;49m\u001B[38;5;241;43m.\u001B[39;49m\u001B[43msuffixes\u001B[49m\n\u001B[0;32m    731\u001B[0m \u001B[43m\u001B[49m\u001B[43m)\u001B[49m\n\u001B[0;32m    733\u001B[0m \u001B[38;5;28;01mif\u001B[39;00m left_indexer \u001B[38;5;129;01mis\u001B[39;00m \u001B[38;5;129;01mnot\u001B[39;00m \u001B[38;5;28;01mNone\u001B[39;00m:\n\u001B[0;32m    734\u001B[0m     \u001B[38;5;66;03m# Pinning the index here (and in the right code just below) is not\u001B[39;00m\n\u001B[0;32m    735\u001B[0m     \u001B[38;5;66;03m#  necessary, but makes the `.take` more performant if we have e.g.\u001B[39;00m\n\u001B[0;32m    736\u001B[0m     \u001B[38;5;66;03m#  a MultiIndex for left.index.\u001B[39;00m\n\u001B[0;32m    737\u001B[0m     lmgr \u001B[38;5;241m=\u001B[39m left\u001B[38;5;241m.\u001B[39m_mgr\u001B[38;5;241m.\u001B[39mreindex_indexer(\n\u001B[0;32m    738\u001B[0m         join_index,\n\u001B[0;32m    739\u001B[0m         left_indexer,\n\u001B[1;32m   (...)\u001B[0m\n\u001B[0;32m    744\u001B[0m         use_na_proxy\u001B[38;5;241m=\u001B[39m\u001B[38;5;28;01mTrue\u001B[39;00m,\n\u001B[0;32m    745\u001B[0m     )\n",
      "File \u001B[1;32mC:\\PythonProjects\\venv\\lib\\site-packages\\pandas\\core\\reshape\\merge.py:2458\u001B[0m, in \u001B[0;36m_items_overlap_with_suffix\u001B[1;34m(left, right, suffixes)\u001B[0m\n\u001B[0;32m   2455\u001B[0m lsuffix, rsuffix \u001B[38;5;241m=\u001B[39m suffixes\n\u001B[0;32m   2457\u001B[0m \u001B[38;5;28;01mif\u001B[39;00m \u001B[38;5;129;01mnot\u001B[39;00m lsuffix \u001B[38;5;129;01mand\u001B[39;00m \u001B[38;5;129;01mnot\u001B[39;00m rsuffix:\n\u001B[1;32m-> 2458\u001B[0m     \u001B[38;5;28;01mraise\u001B[39;00m \u001B[38;5;167;01mValueError\u001B[39;00m(\u001B[38;5;124mf\u001B[39m\u001B[38;5;124m\"\u001B[39m\u001B[38;5;124mcolumns overlap but no suffix specified: \u001B[39m\u001B[38;5;132;01m{\u001B[39;00mto_rename\u001B[38;5;132;01m}\u001B[39;00m\u001B[38;5;124m\"\u001B[39m)\n\u001B[0;32m   2460\u001B[0m \u001B[38;5;28;01mdef\u001B[39;00m \u001B[38;5;21mrenamer\u001B[39m(x, suffix):\n\u001B[0;32m   2461\u001B[0m     \u001B[38;5;124;03m\"\"\"\u001B[39;00m\n\u001B[0;32m   2462\u001B[0m \u001B[38;5;124;03m    Rename the left and right indices.\u001B[39;00m\n\u001B[0;32m   2463\u001B[0m \n\u001B[1;32m   (...)\u001B[0m\n\u001B[0;32m   2474\u001B[0m \u001B[38;5;124;03m    x : renamed column name\u001B[39;00m\n\u001B[0;32m   2475\u001B[0m \u001B[38;5;124;03m    \"\"\"\u001B[39;00m\n",
      "\u001B[1;31mValueError\u001B[0m: columns overlap but no suffix specified: Index(['기온코드'], dtype='object')"
     ]
    }
   ],
   "source": [
    "pd.merge(left=df_merged, right=df_temp, how='left', left_on='도단위이름', right_on='도시', suffixes=('', ''))"
   ],
   "metadata": {
    "collapsed": false,
    "pycharm": {
     "name": "#%%\n"
    }
   }
  }
 ],
 "metadata": {
  "kernelspec": {
   "display_name": "Python 3",
   "language": "python",
   "name": "python3"
  },
  "language_info": {
   "codemirror_mode": {
    "name": "ipython",
    "version": 2
   },
   "file_extension": ".py",
   "mimetype": "text/x-python",
   "name": "python",
   "nbconvert_exporter": "python",
   "pygments_lexer": "ipython2",
   "version": "2.7.6"
  }
 },
 "nbformat": 4,
 "nbformat_minor": 0
}