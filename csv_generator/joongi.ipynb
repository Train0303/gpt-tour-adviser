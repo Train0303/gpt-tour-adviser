{
 "cells": [
  {
   "cell_type": "code",
   "execution_count": 30,
   "outputs": [],
   "source": [
    "import pandas as pd\n",
    "import requests\n",
    "from common import *"
   ],
   "metadata": {
    "collapsed": false,
    "pycharm": {
     "name": "#%%\n"
    }
   }
  },
  {
   "cell_type": "code",
   "execution_count": 31,
   "outputs": [
    {
     "data": {
      "text/plain": "'202304221800'"
     },
     "execution_count": 31,
     "metadata": {},
     "output_type": "execute_result"
    }
   ],
   "source": [
    "def get_tmFc() -> str: # 06시, 18시 가능\n",
    "    now = datetime.now()\n",
    "    if 0 <= now.hour < 6: # 전날 18시를 가져와야 함\n",
    "        yesterday = (now + timedelta(days=-1))\n",
    "        return yesterday.strftime('%Y%m%d1800')\n",
    "\n",
    "    elif 6 <= now.hour < 18: # 당일 06시를 가져와야 함\n",
    "        return now.strftime('%Y%m%d0600')\n",
    "\n",
    "    elif 18 <= now.hour <= 24: # 당일 18시를 가져와야 함\n",
    "        return now.strftime('%Y%m%d1800')\n",
    "\n",
    "get_tmFc()"
   ],
   "metadata": {
    "collapsed": false,
    "pycharm": {
     "name": "#%%\n"
    }
   }
  },
  {
   "cell_type": "code",
   "execution_count": 32,
   "outputs": [],
   "source": [
    "temp_url = 'http://apis.data.go.kr/1360000/MidFcstInfoService/getMidTa'\n",
    "yooksang_url = 'http://apis.data.go.kr/1360000/MidFcstInfoService/getMidLandFcst'"
   ],
   "metadata": {
    "collapsed": false,
    "pycharm": {
     "name": "#%%\n"
    }
   }
  },
  {
   "cell_type": "code",
   "execution_count": 33,
   "outputs": [],
   "source": [
    "def get_joongi_api(url: str, regId: str) -> list[dict]:\n",
    "    params = {'ServiceKey': get_servicekey(),\n",
    "              'pageNo': '1',\n",
    "              'numOfRows': '100',\n",
    "              'dataType': 'JSON',\n",
    "              'regId' : regId,\n",
    "              'tmFc': get_tmFc()}\n",
    "\n",
    "    response = requests.get(url=url, params=params).json()\n",
    "\n",
    "    if response['response']['header']['resultCode'] != '00':\n",
    "        ErrorMessage = response['response']['header']['resultMsg']\n",
    "        raise GetApiError(ErrorMessage)\n",
    "\n",
    "    return response['response']['body']['items']['item']"
   ],
   "metadata": {
    "collapsed": false,
    "pycharm": {
     "name": "#%%\n"
    }
   }
  },
  {
   "cell_type": "code",
   "execution_count": 43,
   "outputs": [
    {
     "ename": "GetApiError",
     "evalue": "NO_DATA",
     "output_type": "error",
     "traceback": [
      "\u001B[1;31m---------------------------------------------------------------------------\u001B[0m",
      "\u001B[1;31mGetApiError\u001B[0m                               Traceback (most recent call last)",
      "Cell \u001B[1;32mIn [43], line 9\u001B[0m\n\u001B[0;32m      1\u001B[0m \u001B[38;5;66;03m# def get_datas(regId: str) -> tuple[list, list]:\u001B[39;00m\n\u001B[0;32m      2\u001B[0m \u001B[38;5;66;03m#     yooksang_data = get_joongi_api(url=yooksang_url, regId=regId)\u001B[39;00m\n\u001B[0;32m      3\u001B[0m \u001B[38;5;66;03m#     temp_data = get_joongi_api(url=temp_url, regId=regId)\u001B[39;00m\n\u001B[1;32m   (...)\u001B[0m\n\u001B[0;32m      7\u001B[0m \u001B[38;5;66;03m# get_joongi_api(url=yooksang_url, regId = '11D20602')\u001B[39;00m\n\u001B[0;32m      8\u001B[0m \u001B[38;5;66;03m# yooksang_data, temp_data = get_datas('11E10103')\u001B[39;00m\n\u001B[1;32m----> 9\u001B[0m \u001B[43mget_joongi_api\u001B[49m\u001B[43m(\u001B[49m\u001B[43murl\u001B[49m\u001B[38;5;241;43m=\u001B[39;49m\u001B[43mtemp_url\u001B[49m\u001B[43m,\u001B[49m\u001B[43m \u001B[49m\u001B[43mregId\u001B[49m\u001B[38;5;241;43m=\u001B[39;49m\u001B[38;5;124;43m'\u001B[39;49m\u001B[38;5;124;43m1.1E+102\u001B[39;49m\u001B[38;5;124;43m'\u001B[39;49m\u001B[43m)\u001B[49m\n\u001B[0;32m     10\u001B[0m \u001B[38;5;66;03m# yooksang_data, temp_data\u001B[39;00m\n",
      "Cell \u001B[1;32mIn [33], line 13\u001B[0m, in \u001B[0;36mget_joongi_api\u001B[1;34m(url, regId)\u001B[0m\n\u001B[0;32m     11\u001B[0m \u001B[38;5;28;01mif\u001B[39;00m response[\u001B[38;5;124m'\u001B[39m\u001B[38;5;124mresponse\u001B[39m\u001B[38;5;124m'\u001B[39m][\u001B[38;5;124m'\u001B[39m\u001B[38;5;124mheader\u001B[39m\u001B[38;5;124m'\u001B[39m][\u001B[38;5;124m'\u001B[39m\u001B[38;5;124mresultCode\u001B[39m\u001B[38;5;124m'\u001B[39m] \u001B[38;5;241m!=\u001B[39m \u001B[38;5;124m'\u001B[39m\u001B[38;5;124m00\u001B[39m\u001B[38;5;124m'\u001B[39m:\n\u001B[0;32m     12\u001B[0m     ErrorMessage \u001B[38;5;241m=\u001B[39m response[\u001B[38;5;124m'\u001B[39m\u001B[38;5;124mresponse\u001B[39m\u001B[38;5;124m'\u001B[39m][\u001B[38;5;124m'\u001B[39m\u001B[38;5;124mheader\u001B[39m\u001B[38;5;124m'\u001B[39m][\u001B[38;5;124m'\u001B[39m\u001B[38;5;124mresultMsg\u001B[39m\u001B[38;5;124m'\u001B[39m]\n\u001B[1;32m---> 13\u001B[0m     \u001B[38;5;28;01mraise\u001B[39;00m GetApiError(ErrorMessage)\n\u001B[0;32m     15\u001B[0m \u001B[38;5;28;01mreturn\u001B[39;00m response[\u001B[38;5;124m'\u001B[39m\u001B[38;5;124mresponse\u001B[39m\u001B[38;5;124m'\u001B[39m][\u001B[38;5;124m'\u001B[39m\u001B[38;5;124mbody\u001B[39m\u001B[38;5;124m'\u001B[39m][\u001B[38;5;124m'\u001B[39m\u001B[38;5;124mitems\u001B[39m\u001B[38;5;124m'\u001B[39m][\u001B[38;5;124m'\u001B[39m\u001B[38;5;124mitem\u001B[39m\u001B[38;5;124m'\u001B[39m]\n",
      "\u001B[1;31mGetApiError\u001B[0m: NO_DATA"
     ]
    }
   ],
   "source": [
    "# def get_datas(regId: str) -> tuple[list, list]:\n",
    "#     yooksang_data = get_joongi_api(url=yooksang_url, regId=regId)\n",
    "#     temp_data = get_joongi_api(url=temp_url, regId=regId)\n",
    "#     return yooksang_data, temp_data\n",
    "\n",
    "\n",
    "# get_joongi_api(url=yooksang_url, regId = '11D20602')\n",
    "# yooksang_data, temp_data = get_datas('11E10103')\n",
    "get_joongi_api(url=temp_url, regId='1.1E+102') # 독도, 울릉도는 ?????????"
   ],
   "metadata": {
    "collapsed": false,
    "pycharm": {
     "name": "#%%\n"
    }
   }
  },
  {
   "cell_type": "code",
   "execution_count": 44,
   "outputs": [
    {
     "data": {
      "text/plain": "[{'regId': '11D20602',\n  'taMin3': 10,\n  'taMin3Low': 0,\n  'taMin3High': 0,\n  'taMax3': 16,\n  'taMax3Low': 0,\n  'taMax3High': 0,\n  'taMin4': 9,\n  'taMin4Low': 0,\n  'taMin4High': 0,\n  'taMax4': 15,\n  'taMax4Low': 0,\n  'taMax4High': 0,\n  'taMin5': 8,\n  'taMin5Low': 0,\n  'taMin5High': 0,\n  'taMax5': 19,\n  'taMax5Low': 0,\n  'taMax5High': 0,\n  'taMin6': 12,\n  'taMin6Low': 0,\n  'taMin6High': 0,\n  'taMax6': 21,\n  'taMax6Low': 0,\n  'taMax6High': 0,\n  'taMin7': 12,\n  'taMin7Low': 0,\n  'taMin7High': 0,\n  'taMax7': 21,\n  'taMax7Low': 0,\n  'taMax7High': 0,\n  'taMin8': 13,\n  'taMin8Low': 0,\n  'taMin8High': 0,\n  'taMax8': 19,\n  'taMax8Low': 0,\n  'taMax8High': 0,\n  'taMin9': 12,\n  'taMin9Low': 0,\n  'taMin9High': 0,\n  'taMax9': 21,\n  'taMax9Low': 0,\n  'taMax9High': 0,\n  'taMin10': 12,\n  'taMin10Low': 0,\n  'taMin10High': 0,\n  'taMax10': 20,\n  'taMax10Low': 0,\n  'taMax10High': 0}]"
     },
     "execution_count": 44,
     "metadata": {},
     "output_type": "execute_result"
    }
   ],
   "source": [
    "get_joongi_api(url=temp_url, regId='11D20602')"
   ],
   "metadata": {
    "collapsed": false,
    "pycharm": {
     "name": "#%%\n"
    }
   }
  },
  {
   "cell_type": "code",
   "execution_count": null,
   "outputs": [],
   "source": [
    "get_joongi_api(url=yooksang_url, regId='')"
   ],
   "metadata": {
    "collapsed": false,
    "pycharm": {
     "name": "#%%\n"
    }
   }
  },
  {
   "cell_type": "code",
   "execution_count": 58,
   "outputs": [],
   "source": [
    "def split_comma_csv():\n",
    "    df_yooksang = pd.read_csv('중기육상예보.csv', encoding='cp949')\n",
    "    df_yooksang = df_yooksang.assign(구역=df_yooksang['구역'].str.split(',')).explode('구역').reset_index(drop=True)\n",
    "    df_yooksang = df_yooksang.applymap(lambda x: x.strip())\n",
    "    df_yooksang.to_csv('code_yooksang.csv', encoding='utf-8')\n",
    "\n",
    "split_comma_csv()"
   ],
   "metadata": {
    "collapsed": false,
    "pycharm": {
     "name": "#%%\n"
    }
   }
  },
  {
   "cell_type": "code",
   "execution_count": null,
   "outputs": [],
   "source": [
    "# 2023-04-22 | 지역 | 하늘 | 강수확률 | 최저기온 | 최고기온 | 관광지수"
   ],
   "metadata": {
    "collapsed": false,
    "pycharm": {
     "name": "#%%\n"
    }
   }
  }
 ],
 "metadata": {
  "kernelspec": {
   "display_name": "Python 3",
   "language": "python",
   "name": "python3"
  },
  "language_info": {
   "codemirror_mode": {
    "name": "ipython",
    "version": 2
   },
   "file_extension": ".py",
   "mimetype": "text/x-python",
   "name": "python",
   "nbconvert_exporter": "python",
   "pygments_lexer": "ipython2",
   "version": "2.7.6"
  }
 },
 "nbformat": 4,
 "nbformat_minor": 0
}