{
 "cells": [
  {
   "cell_type": "code",
   "execution_count": 1,
   "outputs": [],
   "source": [
    "import pandas as pd\n",
    "import requests\n",
    "from common import *"
   ],
   "metadata": {
    "collapsed": false,
    "pycharm": {
     "name": "#%%\n"
    }
   }
  },
  {
   "cell_type": "code",
   "execution_count": 2,
   "outputs": [
    {
     "data": {
      "text/plain": "'202304231800'"
     },
     "execution_count": 2,
     "metadata": {},
     "output_type": "execute_result"
    }
   ],
   "source": [
    "def get_tmFc() -> str: # 06시, 18시 가능\n",
    "    now = datetime.now()\n",
    "    if 0 <= now.hour < 6: # 전날 18시를 가져와야 함\n",
    "        yesterday = (now + timedelta(days=-1))\n",
    "        return yesterday.strftime('%Y%m%d1800')\n",
    "\n",
    "    elif 6 <= now.hour < 18: # 당일 06시를 가져와야 함\n",
    "        return now.strftime('%Y%m%d0600')\n",
    "\n",
    "    elif 18 <= now.hour <= 24: # 당일 18시를 가져와야 함\n",
    "        return now.strftime('%Y%m%d1800')\n",
    "\n",
    "get_tmFc()"
   ],
   "metadata": {
    "collapsed": false,
    "pycharm": {
     "name": "#%%\n"
    }
   }
  },
  {
   "cell_type": "code",
   "execution_count": 3,
   "outputs": [],
   "source": [
    "temp_url = 'http://apis.data.go.kr/1360000/MidFcstInfoService/getMidTa'\n",
    "yooksang_url = 'http://apis.data.go.kr/1360000/MidFcstInfoService/getMidLandFcst'"
   ],
   "metadata": {
    "collapsed": false,
    "pycharm": {
     "name": "#%%\n"
    }
   }
  },
  {
   "cell_type": "code",
   "execution_count": 4,
   "outputs": [],
   "source": [
    "def get_joongi_api(url: str, regId: str) -> list[dict]:\n",
    "    params = {'ServiceKey': get_servicekey(),\n",
    "              'pageNo': '1',\n",
    "              'numOfRows': '100',\n",
    "              'dataType': 'JSON',\n",
    "              'regId' : regId,\n",
    "              'tmFc': get_tmFc()}\n",
    "\n",
    "    response = requests.get(url=url, params=params).json()\n",
    "\n",
    "    if response['response']['header']['resultCode'] != '00':\n",
    "        ErrorMessage = response['response']['header']['resultMsg']\n",
    "        raise GetApiError(ErrorMessage)\n",
    "\n",
    "    return response['response']['body']['items']['item']"
   ],
   "metadata": {
    "collapsed": false,
    "pycharm": {
     "name": "#%%\n"
    }
   }
  },
  {
   "cell_type": "code",
   "execution_count": 6,
   "outputs": [
    {
     "data": {
      "text/plain": "[{'regId': '21F10602',\n  'taMin3': 8,\n  'taMin3Low': 0,\n  'taMin3High': 0,\n  'taMax3': 15,\n  'taMax3Low': 0,\n  'taMax3High': 0,\n  'taMin4': 6,\n  'taMin4Low': 0,\n  'taMin4High': 0,\n  'taMax4': 21,\n  'taMax4Low': 0,\n  'taMax4High': 0,\n  'taMin5': 9,\n  'taMin5Low': 0,\n  'taMin5High': 0,\n  'taMax5': 22,\n  'taMax5Low': 0,\n  'taMax5High': 0,\n  'taMin6': 14,\n  'taMin6Low': 0,\n  'taMin6High': 0,\n  'taMax6': 22,\n  'taMax6Low': 0,\n  'taMax6High': 0,\n  'taMin7': 10,\n  'taMin7Low': 0,\n  'taMin7High': 0,\n  'taMax7': 19,\n  'taMax7Low': 0,\n  'taMax7High': 0,\n  'taMin8': 10,\n  'taMin8Low': 0,\n  'taMin8High': 0,\n  'taMax8': 22,\n  'taMax8Low': 0,\n  'taMax8High': 0,\n  'taMin9': 10,\n  'taMin9Low': 0,\n  'taMin9High': 0,\n  'taMax9': 24,\n  'taMax9Low': 0,\n  'taMax9High': 0,\n  'taMin10': 13,\n  'taMin10Low': 0,\n  'taMin10High': 0,\n  'taMax10': 23,\n  'taMax10Low': 0,\n  'taMax10High': 0}]"
     },
     "execution_count": 6,
     "metadata": {},
     "output_type": "execute_result"
    }
   ],
   "source": [
    "get_joongi_api(url=temp_url, regId='21F10602')"
   ],
   "metadata": {
    "collapsed": false,
    "pycharm": {
     "name": "#%%\n"
    }
   }
  },
  {
   "cell_type": "code",
   "execution_count": 7,
   "outputs": [
    {
     "data": {
      "text/plain": "[{'regId': '11B00000',\n  'rnSt3Am': 40,\n  'rnSt3Pm': 10,\n  'rnSt4Am': 0,\n  'rnSt4Pm': 0,\n  'rnSt5Am': 30,\n  'rnSt5Pm': 40,\n  'rnSt6Am': 40,\n  'rnSt6Pm': 20,\n  'rnSt7Am': 20,\n  'rnSt7Pm': 20,\n  'rnSt8': 20,\n  'rnSt9': 30,\n  'rnSt10': 40,\n  'wf3Am': '구름많음',\n  'wf3Pm': '맑음',\n  'wf4Am': '맑음',\n  'wf4Pm': '맑음',\n  'wf5Am': '구름많음',\n  'wf5Pm': '흐림',\n  'wf6Am': '흐림',\n  'wf6Pm': '맑음',\n  'wf7Am': '맑음',\n  'wf7Pm': '맑음',\n  'wf8': '맑음',\n  'wf9': '구름많음',\n  'wf10': '흐림'}]"
     },
     "execution_count": 7,
     "metadata": {},
     "output_type": "execute_result"
    }
   ],
   "source": [
    "get_joongi_api(url=yooksang_url, regId='11B00000')"
   ],
   "metadata": {
    "collapsed": false,
    "pycharm": {
     "name": "#%%\n"
    }
   }
  },
  {
   "cell_type": "code",
   "execution_count": 8,
   "outputs": [],
   "source": [
    "# 2023-04-22 | 지역 | 하늘 | 강수확률 | 최저기온 | 최고기온 | 관광지수"
   ],
   "metadata": {
    "collapsed": false,
    "pycharm": {
     "name": "#%%\n"
    }
   }
  },
  {
   "cell_type": "code",
   "execution_count": 103,
   "outputs": [],
   "source": [
    "df_temp = pd.read_csv('code_temp.csv')\n",
    "df_yooksang = pd.read_csv('code_yooksang.csv')\n",
    "df_info = pd.read_csv('code_informations.csv')\n",
    "df_info['시군구 아이디'] = df_info['시군구 아이디'].astype(str)"
   ],
   "metadata": {
    "collapsed": false,
    "pycharm": {
     "name": "#%%\n"
    }
   }
  },
  {
   "cell_type": "code",
   "execution_count": 104,
   "outputs": [],
   "source": [
    "# 1. 시군구 이름 전처리 (동구, 서구, 남구, 북구, 중구 제외하고 군/구/시 를 떼준다)"
   ],
   "metadata": {
    "collapsed": false,
    "pycharm": {
     "name": "#%%\n"
    }
   }
  },
  {
   "cell_type": "code",
   "execution_count": 105,
   "outputs": [
    {
     "data": {
      "text/plain": "        시군구 아이디  전체도시이름 도단위이름 시군구이름 새로운시군구이름\n0    2717000000   대구 서구    대구    서구       서구\n1    2726000000  대구 수성구    대구   수성구       수성\n2    2711000000   대구 중구    대구    중구       중구\n3    3023000000  대전 대덕구    대전   대덕구       대덕\n4    3011000000   대전 동구    대전    동구       동구\n..          ...     ...   ...   ...      ...\n225  2720000000   대구 남구    대구    남구       남구\n226  2729000000  대구 달서구    대구   달서구       달서\n227  2771000000  대구 달성군    대구   달성군       달성\n228  2714000000   대구 동구    대구    동구       동구\n229  2723000000   대구 북구    대구    북구       북구\n\n[230 rows x 5 columns]",
      "text/html": "<div>\n<style scoped>\n    .dataframe tbody tr th:only-of-type {\n        vertical-align: middle;\n    }\n\n    .dataframe tbody tr th {\n        vertical-align: top;\n    }\n\n    .dataframe thead th {\n        text-align: right;\n    }\n</style>\n<table border=\"1\" class=\"dataframe\">\n  <thead>\n    <tr style=\"text-align: right;\">\n      <th></th>\n      <th>시군구 아이디</th>\n      <th>전체도시이름</th>\n      <th>도단위이름</th>\n      <th>시군구이름</th>\n      <th>새로운시군구이름</th>\n    </tr>\n  </thead>\n  <tbody>\n    <tr>\n      <th>0</th>\n      <td>2717000000</td>\n      <td>대구 서구</td>\n      <td>대구</td>\n      <td>서구</td>\n      <td>서구</td>\n    </tr>\n    <tr>\n      <th>1</th>\n      <td>2726000000</td>\n      <td>대구 수성구</td>\n      <td>대구</td>\n      <td>수성구</td>\n      <td>수성</td>\n    </tr>\n    <tr>\n      <th>2</th>\n      <td>2711000000</td>\n      <td>대구 중구</td>\n      <td>대구</td>\n      <td>중구</td>\n      <td>중구</td>\n    </tr>\n    <tr>\n      <th>3</th>\n      <td>3023000000</td>\n      <td>대전 대덕구</td>\n      <td>대전</td>\n      <td>대덕구</td>\n      <td>대덕</td>\n    </tr>\n    <tr>\n      <th>4</th>\n      <td>3011000000</td>\n      <td>대전 동구</td>\n      <td>대전</td>\n      <td>동구</td>\n      <td>동구</td>\n    </tr>\n    <tr>\n      <th>...</th>\n      <td>...</td>\n      <td>...</td>\n      <td>...</td>\n      <td>...</td>\n      <td>...</td>\n    </tr>\n    <tr>\n      <th>225</th>\n      <td>2720000000</td>\n      <td>대구 남구</td>\n      <td>대구</td>\n      <td>남구</td>\n      <td>남구</td>\n    </tr>\n    <tr>\n      <th>226</th>\n      <td>2729000000</td>\n      <td>대구 달서구</td>\n      <td>대구</td>\n      <td>달서구</td>\n      <td>달서</td>\n    </tr>\n    <tr>\n      <th>227</th>\n      <td>2771000000</td>\n      <td>대구 달성군</td>\n      <td>대구</td>\n      <td>달성군</td>\n      <td>달성</td>\n    </tr>\n    <tr>\n      <th>228</th>\n      <td>2714000000</td>\n      <td>대구 동구</td>\n      <td>대구</td>\n      <td>동구</td>\n      <td>동구</td>\n    </tr>\n    <tr>\n      <th>229</th>\n      <td>2723000000</td>\n      <td>대구 북구</td>\n      <td>대구</td>\n      <td>북구</td>\n      <td>북구</td>\n    </tr>\n  </tbody>\n</table>\n<p>230 rows × 5 columns</p>\n</div>"
     },
     "execution_count": 105,
     "metadata": {},
     "output_type": "execute_result"
    }
   ],
   "source": [
    "exception_list = ['동구', '서구', '남구', '북구', '중구']\n",
    "df_info['새로운시군구이름'] = df_info['시군구이름'].apply(lambda x: x if x in exception_list else x[:-1])\n",
    "df_info"
   ],
   "metadata": {
    "collapsed": false,
    "pycharm": {
     "name": "#%%\n"
    }
   }
  },
  {
   "cell_type": "code",
   "execution_count": 111,
   "outputs": [],
   "source": [
    "# '전체도시이름'의 NaN을, '도시'로 채우자. 어차피 outer join을 했던 것임.\n",
    "# 경남고성, 강원고성 중복\n",
    "# 강원고성 : 4282..\n",
    "# 경남고성 : 4882..\n",
    "\n",
    "df_merged = df_info.merge(df_temp, left_on='새로운시군구이름', right_on='도시', how='outer')\n",
    "df_merged['기온코드'].fillna('FFFFFFFF', inplace=True)\n",
    "df_merged['육상코드'] = df_merged['기온코드']\\\n",
    "        .apply(lambda x: x[:3]+'00000' if x and x.startswith('11B') else x[:4]+'0000')\\\n",
    "        .apply(lambda x: 'F'*8 if x not in df_yooksang['육상코드'].values else x)\n",
    "\n",
    "df_merged['전체도시이름'].fillna(df_merged['도시'], inplace=True)\n",
    "df_merged.drop(columns=['새로운시군구이름', '도시'], inplace=True)\n",
    "df_merged = df_merged[['전체도시이름', '도단위이름', '시군구이름', '기온코드', '육상코드', '시군구 아이디']]\n",
    "df_merged.rename(columns={'시군구 아이디' : '투어코드'}, inplace=True)\n",
    "df_merged = df_merged.replace('FFFFFFFF', '').fillna('')\n",
    "df_merged.to_csv('code_merged.csv', encoding='utf-8', index=False)"
   ],
   "metadata": {
    "collapsed": false,
    "pycharm": {
     "name": "#%%\n"
    }
   }
  },
  {
   "cell_type": "code",
   "execution_count": 107,
   "outputs": [],
   "source": [
    "# code_temp에 순천, 순천시가 따로 있다..\n",
    "# 고성은 강원고성, 경남고성이 따로있다.."
   ],
   "metadata": {
    "collapsed": false,
    "pycharm": {
     "name": "#%%\n"
    }
   }
  },
  {
   "cell_type": "code",
   "execution_count": 108,
   "outputs": [
    {
     "data": {
      "text/plain": "     전체도시이름 도단위이름 시군구이름      기온코드 육상코드        투어코드\n0     대구 서구    대구    서구                 2717000000\n1     대전 서구    대전    서구                 3017000000\n2     부산 서구    부산    서구                 2614000000\n3     인천 서구    인천    서구                 2826000000\n4     광주 서구    광주    서구                 2914000000\n..      ...   ...   ...       ...  ...         ...\n274      혜산              11K20004                 \n275      풍산              11K20005                 \n276      원산              11L10001                 \n277  고성(장전)              11L10002                 \n278      평강              11L10003                 \n\n[279 rows x 6 columns]",
      "text/html": "<div>\n<style scoped>\n    .dataframe tbody tr th:only-of-type {\n        vertical-align: middle;\n    }\n\n    .dataframe tbody tr th {\n        vertical-align: top;\n    }\n\n    .dataframe thead th {\n        text-align: right;\n    }\n</style>\n<table border=\"1\" class=\"dataframe\">\n  <thead>\n    <tr style=\"text-align: right;\">\n      <th></th>\n      <th>전체도시이름</th>\n      <th>도단위이름</th>\n      <th>시군구이름</th>\n      <th>기온코드</th>\n      <th>육상코드</th>\n      <th>투어코드</th>\n    </tr>\n  </thead>\n  <tbody>\n    <tr>\n      <th>0</th>\n      <td>대구 서구</td>\n      <td>대구</td>\n      <td>서구</td>\n      <td></td>\n      <td></td>\n      <td>2717000000</td>\n    </tr>\n    <tr>\n      <th>1</th>\n      <td>대전 서구</td>\n      <td>대전</td>\n      <td>서구</td>\n      <td></td>\n      <td></td>\n      <td>3017000000</td>\n    </tr>\n    <tr>\n      <th>2</th>\n      <td>부산 서구</td>\n      <td>부산</td>\n      <td>서구</td>\n      <td></td>\n      <td></td>\n      <td>2614000000</td>\n    </tr>\n    <tr>\n      <th>3</th>\n      <td>인천 서구</td>\n      <td>인천</td>\n      <td>서구</td>\n      <td></td>\n      <td></td>\n      <td>2826000000</td>\n    </tr>\n    <tr>\n      <th>4</th>\n      <td>광주 서구</td>\n      <td>광주</td>\n      <td>서구</td>\n      <td></td>\n      <td></td>\n      <td>2914000000</td>\n    </tr>\n    <tr>\n      <th>...</th>\n      <td>...</td>\n      <td>...</td>\n      <td>...</td>\n      <td>...</td>\n      <td>...</td>\n      <td>...</td>\n    </tr>\n    <tr>\n      <th>274</th>\n      <td>혜산</td>\n      <td></td>\n      <td></td>\n      <td>11K20004</td>\n      <td></td>\n      <td></td>\n    </tr>\n    <tr>\n      <th>275</th>\n      <td>풍산</td>\n      <td></td>\n      <td></td>\n      <td>11K20005</td>\n      <td></td>\n      <td></td>\n    </tr>\n    <tr>\n      <th>276</th>\n      <td>원산</td>\n      <td></td>\n      <td></td>\n      <td>11L10001</td>\n      <td></td>\n      <td></td>\n    </tr>\n    <tr>\n      <th>277</th>\n      <td>고성(장전)</td>\n      <td></td>\n      <td></td>\n      <td>11L10002</td>\n      <td></td>\n      <td></td>\n    </tr>\n    <tr>\n      <th>278</th>\n      <td>평강</td>\n      <td></td>\n      <td></td>\n      <td>11L10003</td>\n      <td></td>\n      <td></td>\n    </tr>\n  </tbody>\n</table>\n<p>279 rows × 6 columns</p>\n</div>"
     },
     "execution_count": 108,
     "metadata": {},
     "output_type": "execute_result"
    }
   ],
   "source": [
    "df_merged"
   ],
   "metadata": {
    "collapsed": false,
    "pycharm": {
     "name": "#%%\n"
    }
   }
  },
  {
   "cell_type": "code",
   "execution_count": null,
   "outputs": [],
   "source": [],
   "metadata": {
    "collapsed": false,
    "pycharm": {
     "name": "#%%\n"
    }
   }
  }
 ],
 "metadata": {
  "kernelspec": {
   "display_name": "Python 3",
   "language": "python",
   "name": "python3"
  },
  "language_info": {
   "codemirror_mode": {
    "name": "ipython",
    "version": 2
   },
   "file_extension": ".py",
   "mimetype": "text/x-python",
   "name": "python",
   "nbconvert_exporter": "python",
   "pygments_lexer": "ipython2",
   "version": "2.7.6"
  }
 },
 "nbformat": 4,
 "nbformat_minor": 0
}